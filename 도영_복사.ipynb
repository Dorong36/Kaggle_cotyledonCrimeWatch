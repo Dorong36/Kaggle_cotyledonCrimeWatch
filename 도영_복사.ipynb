{
 "cells": [
  {
   "cell_type": "code",
   "execution_count": 969,
   "id": "436aa5a6",
   "metadata": {},
   "outputs": [],
   "source": [
    "import numpy as np\n",
    "import pandas as pd\n",
    "import matplotlib.pyplot as plt\n",
    "import seaborn as sns\n",
    "\n",
    "train=pd.read_csv('train.csv')\n",
    "test=pd.read_csv('test.csv')"
   ]
  },
  {
   "cell_type": "code",
   "execution_count": 970,
   "id": "140837f4",
   "metadata": {},
   "outputs": [
    {
     "name": "stdout",
     "output_type": "stream",
     "text": [
      "<class 'pandas.core.frame.DataFrame'>\n",
      "RangeIndex: 1751 entries, 0 to 1750\n",
      "Data columns (total 81 columns):\n",
      " #   Column         Non-Null Count  Dtype  \n",
      "---  ------         --------------  -----  \n",
      " 0   Id             1751 non-null   int64  \n",
      " 1   MSSubClass     1751 non-null   int64  \n",
      " 2   MSZoning       1747 non-null   object \n",
      " 3   LotFrontage    1450 non-null   float64\n",
      " 4   LotArea        1751 non-null   int64  \n",
      " 5   Street         1751 non-null   object \n",
      " 6   Alley          125 non-null    object \n",
      " 7   LotShape       1751 non-null   object \n",
      " 8   LandContour    1751 non-null   object \n",
      " 9   Utilities      1750 non-null   object \n",
      " 10  LotConfig      1751 non-null   object \n",
      " 11  LandSlope      1751 non-null   object \n",
      " 12  Neighborhood   1751 non-null   object \n",
      " 13  Condition1     1751 non-null   object \n",
      " 14  Condition2     1751 non-null   object \n",
      " 15  BldgType       1751 non-null   object \n",
      " 16  HouseStyle     1751 non-null   object \n",
      " 17  OverallQual    1751 non-null   int64  \n",
      " 18  OverallCond    1751 non-null   int64  \n",
      " 19  YearBuilt      1751 non-null   int64  \n",
      " 20  YearRemodAdd   1751 non-null   int64  \n",
      " 21  RoofStyle      1751 non-null   object \n",
      " 22  RoofMatl       1751 non-null   object \n",
      " 23  Exterior1st    1751 non-null   object \n",
      " 24  Exterior2nd    1751 non-null   object \n",
      " 25  MasVnrType     1734 non-null   object \n",
      " 26  MasVnrArea     1735 non-null   float64\n",
      " 27  ExterQual      1751 non-null   object \n",
      " 28  ExterCond      1751 non-null   object \n",
      " 29  Foundation     1751 non-null   object \n",
      " 30  BsmtQual       1698 non-null   object \n",
      " 31  BsmtCond       1696 non-null   object \n",
      " 32  BsmtExposure   1698 non-null   object \n",
      " 33  BsmtFinType1   1699 non-null   object \n",
      " 34  BsmtFinSF1     1750 non-null   float64\n",
      " 35  BsmtFinType2   1699 non-null   object \n",
      " 36  BsmtFinSF2     1750 non-null   float64\n",
      " 37  BsmtUnfSF      1750 non-null   float64\n",
      " 38  TotalBsmtSF    1750 non-null   float64\n",
      " 39  Heating        1751 non-null   object \n",
      " 40  HeatingQC      1751 non-null   object \n",
      " 41  CentralAir     1751 non-null   object \n",
      " 42  Electrical     1750 non-null   object \n",
      " 43  1stFlrSF       1751 non-null   int64  \n",
      " 44  2ndFlrSF       1751 non-null   int64  \n",
      " 45  LowQualFinSF   1751 non-null   int64  \n",
      " 46  GrLivArea      1751 non-null   int64  \n",
      " 47  BsmtFullBath   1750 non-null   float64\n",
      " 48  BsmtHalfBath   1750 non-null   float64\n",
      " 49  FullBath       1751 non-null   int64  \n",
      " 50  HalfBath       1751 non-null   int64  \n",
      " 51  BedroomAbvGr   1751 non-null   int64  \n",
      " 52  KitchenAbvGr   1751 non-null   int64  \n",
      " 53  KitchenQual    1751 non-null   object \n",
      " 54  TotRmsAbvGrd   1751 non-null   int64  \n",
      " 55  Functional     1749 non-null   object \n",
      " 56  Fireplaces     1751 non-null   int64  \n",
      " 57  FireplaceQu    892 non-null    object \n",
      " 58  GarageType     1652 non-null   object \n",
      " 59  GarageYrBlt    1651 non-null   float64\n",
      " 60  GarageFinish   1651 non-null   object \n",
      " 61  GarageCars     1750 non-null   float64\n",
      " 62  GarageArea     1750 non-null   float64\n",
      " 63  GarageQual     1651 non-null   object \n",
      " 64  GarageCond     1651 non-null   object \n",
      " 65  PavedDrive     1751 non-null   object \n",
      " 66  WoodDeckSF     1751 non-null   int64  \n",
      " 67  OpenPorchSF    1751 non-null   int64  \n",
      " 68  EnclosedPorch  1751 non-null   int64  \n",
      " 69  3SsnPorch      1751 non-null   int64  \n",
      " 70  ScreenPorch    1751 non-null   int64  \n",
      " 71  PoolArea       1751 non-null   int64  \n",
      " 72  PoolQC         4 non-null      object \n",
      " 73  Fence          339 non-null    object \n",
      " 74  MiscFeature    63 non-null     object \n",
      " 75  MiscVal        1751 non-null   int64  \n",
      " 76  MoSold         1751 non-null   int64  \n",
      " 77  YrSold         1751 non-null   int64  \n",
      " 78  SaleType       1751 non-null   object \n",
      " 79  SaleCondition  1751 non-null   object \n",
      " 80  SalePrice      1751 non-null   float64\n",
      "dtypes: float64(12), int64(26), object(43)\n",
      "memory usage: 1.1+ MB\n"
     ]
    }
   ],
   "source": [
    "train.info()"
   ]
  },
  {
   "cell_type": "code",
   "execution_count": 971,
   "id": "00044366",
   "metadata": {},
   "outputs": [
    {
     "name": "stdout",
     "output_type": "stream",
     "text": [
      "<class 'pandas.core.frame.DataFrame'>\n",
      "RangeIndex: 1168 entries, 0 to 1167\n",
      "Data columns (total 80 columns):\n",
      " #   Column         Non-Null Count  Dtype  \n",
      "---  ------         --------------  -----  \n",
      " 0   Id             1168 non-null   int64  \n",
      " 1   MSSubClass     1168 non-null   int64  \n",
      " 2   MSZoning       1168 non-null   object \n",
      " 3   LotFrontage    983 non-null    float64\n",
      " 4   LotArea        1168 non-null   int64  \n",
      " 5   Street         1168 non-null   object \n",
      " 6   Alley          73 non-null     object \n",
      " 7   LotShape       1168 non-null   object \n",
      " 8   LandContour    1168 non-null   object \n",
      " 9   Utilities      1167 non-null   object \n",
      " 10  LotConfig      1168 non-null   object \n",
      " 11  LandSlope      1168 non-null   object \n",
      " 12  Neighborhood   1168 non-null   object \n",
      " 13  Condition1     1168 non-null   object \n",
      " 14  Condition2     1168 non-null   object \n",
      " 15  BldgType       1168 non-null   object \n",
      " 16  HouseStyle     1168 non-null   object \n",
      " 17  OverallQual    1168 non-null   int64  \n",
      " 18  OverallCond    1168 non-null   int64  \n",
      " 19  YearBuilt      1168 non-null   int64  \n",
      " 20  YearRemodAdd   1168 non-null   int64  \n",
      " 21  RoofStyle      1168 non-null   object \n",
      " 22  RoofMatl       1168 non-null   object \n",
      " 23  Exterior1st    1167 non-null   object \n",
      " 24  Exterior2nd    1167 non-null   object \n",
      " 25  MasVnrType     1161 non-null   object \n",
      " 26  MasVnrArea     1161 non-null   float64\n",
      " 27  ExterQual      1168 non-null   object \n",
      " 28  ExterCond      1168 non-null   object \n",
      " 29  Foundation     1168 non-null   object \n",
      " 30  BsmtQual       1140 non-null   object \n",
      " 31  BsmtCond       1141 non-null   object \n",
      " 32  BsmtExposure   1139 non-null   object \n",
      " 33  BsmtFinType1   1141 non-null   object \n",
      " 34  BsmtFinSF1     1168 non-null   float64\n",
      " 35  BsmtFinType2   1140 non-null   object \n",
      " 36  BsmtFinSF2     1168 non-null   float64\n",
      " 37  BsmtUnfSF      1168 non-null   float64\n",
      " 38  TotalBsmtSF    1168 non-null   float64\n",
      " 39  Heating        1168 non-null   object \n",
      " 40  HeatingQC      1168 non-null   object \n",
      " 41  CentralAir     1168 non-null   object \n",
      " 42  Electrical     1168 non-null   object \n",
      " 43  1stFlrSF       1168 non-null   int64  \n",
      " 44  2ndFlrSF       1168 non-null   int64  \n",
      " 45  LowQualFinSF   1168 non-null   int64  \n",
      " 46  GrLivArea      1168 non-null   int64  \n",
      " 47  BsmtFullBath   1167 non-null   float64\n",
      " 48  BsmtHalfBath   1167 non-null   float64\n",
      " 49  FullBath       1168 non-null   int64  \n",
      " 50  HalfBath       1168 non-null   int64  \n",
      " 51  BedroomAbvGr   1168 non-null   int64  \n",
      " 52  KitchenAbvGr   1168 non-null   int64  \n",
      " 53  KitchenQual    1167 non-null   object \n",
      " 54  TotRmsAbvGrd   1168 non-null   int64  \n",
      " 55  Functional     1168 non-null   object \n",
      " 56  Fireplaces     1168 non-null   int64  \n",
      " 57  FireplaceQu    607 non-null    object \n",
      " 58  GarageType     1110 non-null   object \n",
      " 59  GarageYrBlt    1109 non-null   float64\n",
      " 60  GarageFinish   1109 non-null   object \n",
      " 61  GarageCars     1168 non-null   float64\n",
      " 62  GarageArea     1168 non-null   float64\n",
      " 63  GarageQual     1109 non-null   object \n",
      " 64  GarageCond     1109 non-null   object \n",
      " 65  PavedDrive     1168 non-null   object \n",
      " 66  WoodDeckSF     1168 non-null   int64  \n",
      " 67  OpenPorchSF    1168 non-null   int64  \n",
      " 68  EnclosedPorch  1168 non-null   int64  \n",
      " 69  3SsnPorch      1168 non-null   int64  \n",
      " 70  ScreenPorch    1168 non-null   int64  \n",
      " 71  PoolArea       1168 non-null   int64  \n",
      " 72  PoolQC         6 non-null      object \n",
      " 73  Fence          232 non-null    object \n",
      " 74  MiscFeature    42 non-null     object \n",
      " 75  MiscVal        1168 non-null   int64  \n",
      " 76  MoSold         1168 non-null   int64  \n",
      " 77  YrSold         1168 non-null   int64  \n",
      " 78  SaleType       1167 non-null   object \n",
      " 79  SaleCondition  1168 non-null   object \n",
      "dtypes: float64(11), int64(26), object(43)\n",
      "memory usage: 730.1+ KB\n"
     ]
    }
   ],
   "source": [
    "test.info()"
   ]
  },
  {
   "cell_type": "code",
   "execution_count": 972,
   "id": "cc39e083",
   "metadata": {},
   "outputs": [],
   "source": [
    "train.drop('Id', axis=1, inplace=True)"
   ]
  },
  {
   "cell_type": "code",
   "execution_count": 973,
   "id": "2e01ed95",
   "metadata": {},
   "outputs": [
    {
     "data": {
      "text/html": [
       "<div>\n",
       "<style scoped>\n",
       "    .dataframe tbody tr th:only-of-type {\n",
       "        vertical-align: middle;\n",
       "    }\n",
       "\n",
       "    .dataframe tbody tr th {\n",
       "        vertical-align: top;\n",
       "    }\n",
       "\n",
       "    .dataframe thead th {\n",
       "        text-align: right;\n",
       "    }\n",
       "</style>\n",
       "<table border=\"1\" class=\"dataframe\">\n",
       "  <thead>\n",
       "    <tr style=\"text-align: right;\">\n",
       "      <th></th>\n",
       "      <th>MSSubClass</th>\n",
       "      <th>MSZoning</th>\n",
       "      <th>LotFrontage</th>\n",
       "      <th>LotArea</th>\n",
       "      <th>Street</th>\n",
       "      <th>Alley</th>\n",
       "      <th>LotShape</th>\n",
       "      <th>LandContour</th>\n",
       "      <th>Utilities</th>\n",
       "      <th>LotConfig</th>\n",
       "      <th>...</th>\n",
       "      <th>PoolArea</th>\n",
       "      <th>PoolQC</th>\n",
       "      <th>Fence</th>\n",
       "      <th>MiscFeature</th>\n",
       "      <th>MiscVal</th>\n",
       "      <th>MoSold</th>\n",
       "      <th>YrSold</th>\n",
       "      <th>SaleType</th>\n",
       "      <th>SaleCondition</th>\n",
       "      <th>SalePrice</th>\n",
       "    </tr>\n",
       "  </thead>\n",
       "  <tbody>\n",
       "    <tr>\n",
       "      <th>0</th>\n",
       "      <td>20</td>\n",
       "      <td>RL</td>\n",
       "      <td>NaN</td>\n",
       "      <td>21695</td>\n",
       "      <td>Pave</td>\n",
       "      <td>NaN</td>\n",
       "      <td>IR1</td>\n",
       "      <td>Lvl</td>\n",
       "      <td>AllPub</td>\n",
       "      <td>Corner</td>\n",
       "      <td>...</td>\n",
       "      <td>0</td>\n",
       "      <td>NaN</td>\n",
       "      <td>NaN</td>\n",
       "      <td>NaN</td>\n",
       "      <td>0</td>\n",
       "      <td>12</td>\n",
       "      <td>2009</td>\n",
       "      <td>WD</td>\n",
       "      <td>Normal</td>\n",
       "      <td>222000.000000</td>\n",
       "    </tr>\n",
       "    <tr>\n",
       "      <th>1</th>\n",
       "      <td>20</td>\n",
       "      <td>RL</td>\n",
       "      <td>NaN</td>\n",
       "      <td>10530</td>\n",
       "      <td>Pave</td>\n",
       "      <td>NaN</td>\n",
       "      <td>IR1</td>\n",
       "      <td>Lvl</td>\n",
       "      <td>AllPub</td>\n",
       "      <td>Corner</td>\n",
       "      <td>...</td>\n",
       "      <td>0</td>\n",
       "      <td>NaN</td>\n",
       "      <td>NaN</td>\n",
       "      <td>NaN</td>\n",
       "      <td>0</td>\n",
       "      <td>3</td>\n",
       "      <td>2007</td>\n",
       "      <td>WD</td>\n",
       "      <td>Normal</td>\n",
       "      <td>143250.000000</td>\n",
       "    </tr>\n",
       "    <tr>\n",
       "      <th>2</th>\n",
       "      <td>20</td>\n",
       "      <td>RL</td>\n",
       "      <td>88.0</td>\n",
       "      <td>12803</td>\n",
       "      <td>Pave</td>\n",
       "      <td>NaN</td>\n",
       "      <td>IR1</td>\n",
       "      <td>Lvl</td>\n",
       "      <td>AllPub</td>\n",
       "      <td>Inside</td>\n",
       "      <td>...</td>\n",
       "      <td>0</td>\n",
       "      <td>NaN</td>\n",
       "      <td>NaN</td>\n",
       "      <td>NaN</td>\n",
       "      <td>0</td>\n",
       "      <td>9</td>\n",
       "      <td>2008</td>\n",
       "      <td>WD</td>\n",
       "      <td>Normal</td>\n",
       "      <td>221000.000000</td>\n",
       "    </tr>\n",
       "    <tr>\n",
       "      <th>3</th>\n",
       "      <td>60</td>\n",
       "      <td>FV</td>\n",
       "      <td>114.0</td>\n",
       "      <td>8314</td>\n",
       "      <td>Pave</td>\n",
       "      <td>Pave</td>\n",
       "      <td>IR1</td>\n",
       "      <td>Lvl</td>\n",
       "      <td>AllPub</td>\n",
       "      <td>Corner</td>\n",
       "      <td>...</td>\n",
       "      <td>0</td>\n",
       "      <td>NaN</td>\n",
       "      <td>GdPrv</td>\n",
       "      <td>NaN</td>\n",
       "      <td>0</td>\n",
       "      <td>11</td>\n",
       "      <td>2006</td>\n",
       "      <td>WD</td>\n",
       "      <td>Normal</td>\n",
       "      <td>190269.599579</td>\n",
       "    </tr>\n",
       "    <tr>\n",
       "      <th>4</th>\n",
       "      <td>20</td>\n",
       "      <td>RL</td>\n",
       "      <td>78.0</td>\n",
       "      <td>10335</td>\n",
       "      <td>Pave</td>\n",
       "      <td>NaN</td>\n",
       "      <td>IR1</td>\n",
       "      <td>Lvl</td>\n",
       "      <td>AllPub</td>\n",
       "      <td>Inside</td>\n",
       "      <td>...</td>\n",
       "      <td>0</td>\n",
       "      <td>NaN</td>\n",
       "      <td>MnPrv</td>\n",
       "      <td>NaN</td>\n",
       "      <td>0</td>\n",
       "      <td>7</td>\n",
       "      <td>2006</td>\n",
       "      <td>WD</td>\n",
       "      <td>Normal</td>\n",
       "      <td>180000.000000</td>\n",
       "    </tr>\n",
       "  </tbody>\n",
       "</table>\n",
       "<p>5 rows × 80 columns</p>\n",
       "</div>"
      ],
      "text/plain": [
       "   MSSubClass MSZoning  LotFrontage  LotArea Street Alley LotShape  \\\n",
       "0          20       RL          NaN    21695   Pave   NaN      IR1   \n",
       "1          20       RL          NaN    10530   Pave   NaN      IR1   \n",
       "2          20       RL         88.0    12803   Pave   NaN      IR1   \n",
       "3          60       FV        114.0     8314   Pave  Pave      IR1   \n",
       "4          20       RL         78.0    10335   Pave   NaN      IR1   \n",
       "\n",
       "  LandContour Utilities LotConfig  ... PoolArea PoolQC  Fence MiscFeature  \\\n",
       "0         Lvl    AllPub    Corner  ...        0    NaN    NaN         NaN   \n",
       "1         Lvl    AllPub    Corner  ...        0    NaN    NaN         NaN   \n",
       "2         Lvl    AllPub    Inside  ...        0    NaN    NaN         NaN   \n",
       "3         Lvl    AllPub    Corner  ...        0    NaN  GdPrv         NaN   \n",
       "4         Lvl    AllPub    Inside  ...        0    NaN  MnPrv         NaN   \n",
       "\n",
       "  MiscVal MoSold  YrSold  SaleType  SaleCondition      SalePrice  \n",
       "0       0     12    2009        WD         Normal  222000.000000  \n",
       "1       0      3    2007        WD         Normal  143250.000000  \n",
       "2       0      9    2008        WD         Normal  221000.000000  \n",
       "3       0     11    2006        WD         Normal  190269.599579  \n",
       "4       0      7    2006        WD         Normal  180000.000000  \n",
       "\n",
       "[5 rows x 80 columns]"
      ]
     },
     "execution_count": 973,
     "metadata": {},
     "output_type": "execute_result"
    }
   ],
   "source": [
    "train.head(5)"
   ]
  },
  {
   "cell_type": "code",
   "execution_count": 974,
   "id": "11d1798c",
   "metadata": {},
   "outputs": [
    {
     "data": {
      "text/html": [
       "<div>\n",
       "<style scoped>\n",
       "    .dataframe tbody tr th:only-of-type {\n",
       "        vertical-align: middle;\n",
       "    }\n",
       "\n",
       "    .dataframe tbody tr th {\n",
       "        vertical-align: top;\n",
       "    }\n",
       "\n",
       "    .dataframe thead th {\n",
       "        text-align: right;\n",
       "    }\n",
       "</style>\n",
       "<table border=\"1\" class=\"dataframe\">\n",
       "  <thead>\n",
       "    <tr style=\"text-align: right;\">\n",
       "      <th></th>\n",
       "      <th>Id</th>\n",
       "      <th>MSSubClass</th>\n",
       "      <th>MSZoning</th>\n",
       "      <th>LotFrontage</th>\n",
       "      <th>LotArea</th>\n",
       "      <th>Street</th>\n",
       "      <th>Alley</th>\n",
       "      <th>LotShape</th>\n",
       "      <th>LandContour</th>\n",
       "      <th>Utilities</th>\n",
       "      <th>...</th>\n",
       "      <th>ScreenPorch</th>\n",
       "      <th>PoolArea</th>\n",
       "      <th>PoolQC</th>\n",
       "      <th>Fence</th>\n",
       "      <th>MiscFeature</th>\n",
       "      <th>MiscVal</th>\n",
       "      <th>MoSold</th>\n",
       "      <th>YrSold</th>\n",
       "      <th>SaleType</th>\n",
       "      <th>SaleCondition</th>\n",
       "    </tr>\n",
       "  </thead>\n",
       "  <tbody>\n",
       "    <tr>\n",
       "      <th>0</th>\n",
       "      <td>1752</td>\n",
       "      <td>20</td>\n",
       "      <td>RL</td>\n",
       "      <td>78.0</td>\n",
       "      <td>10206</td>\n",
       "      <td>Pave</td>\n",
       "      <td>NaN</td>\n",
       "      <td>Reg</td>\n",
       "      <td>Lvl</td>\n",
       "      <td>AllPub</td>\n",
       "      <td>...</td>\n",
       "      <td>0</td>\n",
       "      <td>0</td>\n",
       "      <td>NaN</td>\n",
       "      <td>NaN</td>\n",
       "      <td>NaN</td>\n",
       "      <td>0</td>\n",
       "      <td>9</td>\n",
       "      <td>2009</td>\n",
       "      <td>WD</td>\n",
       "      <td>Normal</td>\n",
       "    </tr>\n",
       "    <tr>\n",
       "      <th>1</th>\n",
       "      <td>1753</td>\n",
       "      <td>50</td>\n",
       "      <td>RL</td>\n",
       "      <td>50.0</td>\n",
       "      <td>5000</td>\n",
       "      <td>Pave</td>\n",
       "      <td>Pave</td>\n",
       "      <td>Reg</td>\n",
       "      <td>Lvl</td>\n",
       "      <td>AllPub</td>\n",
       "      <td>...</td>\n",
       "      <td>0</td>\n",
       "      <td>0</td>\n",
       "      <td>NaN</td>\n",
       "      <td>NaN</td>\n",
       "      <td>NaN</td>\n",
       "      <td>0</td>\n",
       "      <td>5</td>\n",
       "      <td>2010</td>\n",
       "      <td>WD</td>\n",
       "      <td>Normal</td>\n",
       "    </tr>\n",
       "    <tr>\n",
       "      <th>2</th>\n",
       "      <td>1754</td>\n",
       "      <td>60</td>\n",
       "      <td>RL</td>\n",
       "      <td>NaN</td>\n",
       "      <td>9930</td>\n",
       "      <td>Pave</td>\n",
       "      <td>NaN</td>\n",
       "      <td>IR1</td>\n",
       "      <td>Lvl</td>\n",
       "      <td>AllPub</td>\n",
       "      <td>...</td>\n",
       "      <td>0</td>\n",
       "      <td>0</td>\n",
       "      <td>NaN</td>\n",
       "      <td>NaN</td>\n",
       "      <td>NaN</td>\n",
       "      <td>0</td>\n",
       "      <td>7</td>\n",
       "      <td>2006</td>\n",
       "      <td>WD</td>\n",
       "      <td>Normal</td>\n",
       "    </tr>\n",
       "    <tr>\n",
       "      <th>3</th>\n",
       "      <td>1755</td>\n",
       "      <td>60</td>\n",
       "      <td>RL</td>\n",
       "      <td>92.0</td>\n",
       "      <td>9920</td>\n",
       "      <td>Pave</td>\n",
       "      <td>NaN</td>\n",
       "      <td>IR1</td>\n",
       "      <td>Lvl</td>\n",
       "      <td>AllPub</td>\n",
       "      <td>...</td>\n",
       "      <td>0</td>\n",
       "      <td>0</td>\n",
       "      <td>NaN</td>\n",
       "      <td>NaN</td>\n",
       "      <td>NaN</td>\n",
       "      <td>0</td>\n",
       "      <td>6</td>\n",
       "      <td>2007</td>\n",
       "      <td>WD</td>\n",
       "      <td>Normal</td>\n",
       "    </tr>\n",
       "    <tr>\n",
       "      <th>4</th>\n",
       "      <td>1756</td>\n",
       "      <td>50</td>\n",
       "      <td>RL</td>\n",
       "      <td>66.0</td>\n",
       "      <td>21780</td>\n",
       "      <td>Pave</td>\n",
       "      <td>NaN</td>\n",
       "      <td>Reg</td>\n",
       "      <td>Lvl</td>\n",
       "      <td>AllPub</td>\n",
       "      <td>...</td>\n",
       "      <td>144</td>\n",
       "      <td>0</td>\n",
       "      <td>NaN</td>\n",
       "      <td>NaN</td>\n",
       "      <td>NaN</td>\n",
       "      <td>0</td>\n",
       "      <td>7</td>\n",
       "      <td>2008</td>\n",
       "      <td>WD</td>\n",
       "      <td>Normal</td>\n",
       "    </tr>\n",
       "  </tbody>\n",
       "</table>\n",
       "<p>5 rows × 80 columns</p>\n",
       "</div>"
      ],
      "text/plain": [
       "     Id  MSSubClass MSZoning  LotFrontage  LotArea Street Alley LotShape  \\\n",
       "0  1752          20       RL         78.0    10206   Pave   NaN      Reg   \n",
       "1  1753          50       RL         50.0     5000   Pave  Pave      Reg   \n",
       "2  1754          60       RL          NaN     9930   Pave   NaN      IR1   \n",
       "3  1755          60       RL         92.0     9920   Pave   NaN      IR1   \n",
       "4  1756          50       RL         66.0    21780   Pave   NaN      Reg   \n",
       "\n",
       "  LandContour Utilities  ... ScreenPorch PoolArea PoolQC Fence MiscFeature  \\\n",
       "0         Lvl    AllPub  ...           0        0    NaN   NaN         NaN   \n",
       "1         Lvl    AllPub  ...           0        0    NaN   NaN         NaN   \n",
       "2         Lvl    AllPub  ...           0        0    NaN   NaN         NaN   \n",
       "3         Lvl    AllPub  ...           0        0    NaN   NaN         NaN   \n",
       "4         Lvl    AllPub  ...         144        0    NaN   NaN         NaN   \n",
       "\n",
       "  MiscVal MoSold  YrSold  SaleType  SaleCondition  \n",
       "0       0      9    2009        WD         Normal  \n",
       "1       0      5    2010        WD         Normal  \n",
       "2       0      7    2006        WD         Normal  \n",
       "3       0      6    2007        WD         Normal  \n",
       "4       0      7    2008        WD         Normal  \n",
       "\n",
       "[5 rows x 80 columns]"
      ]
     },
     "execution_count": 974,
     "metadata": {},
     "output_type": "execute_result"
    }
   ],
   "source": [
    "test.head(5)"
   ]
  },
  {
   "cell_type": "code",
   "execution_count": 975,
   "id": "bf735ebf",
   "metadata": {},
   "outputs": [],
   "source": [
    "test.drop('Id', axis=1, inplace=True)"
   ]
  },
  {
   "cell_type": "code",
   "execution_count": 976,
   "id": "47fe0291",
   "metadata": {},
   "outputs": [
    {
     "data": {
      "text/html": [
       "<div>\n",
       "<style scoped>\n",
       "    .dataframe tbody tr th:only-of-type {\n",
       "        vertical-align: middle;\n",
       "    }\n",
       "\n",
       "    .dataframe tbody tr th {\n",
       "        vertical-align: top;\n",
       "    }\n",
       "\n",
       "    .dataframe thead th {\n",
       "        text-align: right;\n",
       "    }\n",
       "</style>\n",
       "<table border=\"1\" class=\"dataframe\">\n",
       "  <thead>\n",
       "    <tr style=\"text-align: right;\">\n",
       "      <th></th>\n",
       "      <th>MSSubClass</th>\n",
       "      <th>MSZoning</th>\n",
       "      <th>LotFrontage</th>\n",
       "      <th>LotArea</th>\n",
       "      <th>Street</th>\n",
       "      <th>Alley</th>\n",
       "      <th>LotShape</th>\n",
       "      <th>LandContour</th>\n",
       "      <th>Utilities</th>\n",
       "      <th>LotConfig</th>\n",
       "      <th>...</th>\n",
       "      <th>ScreenPorch</th>\n",
       "      <th>PoolArea</th>\n",
       "      <th>PoolQC</th>\n",
       "      <th>Fence</th>\n",
       "      <th>MiscFeature</th>\n",
       "      <th>MiscVal</th>\n",
       "      <th>MoSold</th>\n",
       "      <th>YrSold</th>\n",
       "      <th>SaleType</th>\n",
       "      <th>SaleCondition</th>\n",
       "    </tr>\n",
       "  </thead>\n",
       "  <tbody>\n",
       "    <tr>\n",
       "      <th>0</th>\n",
       "      <td>20</td>\n",
       "      <td>RL</td>\n",
       "      <td>78.0</td>\n",
       "      <td>10206</td>\n",
       "      <td>Pave</td>\n",
       "      <td>NaN</td>\n",
       "      <td>Reg</td>\n",
       "      <td>Lvl</td>\n",
       "      <td>AllPub</td>\n",
       "      <td>Inside</td>\n",
       "      <td>...</td>\n",
       "      <td>0</td>\n",
       "      <td>0</td>\n",
       "      <td>NaN</td>\n",
       "      <td>NaN</td>\n",
       "      <td>NaN</td>\n",
       "      <td>0</td>\n",
       "      <td>9</td>\n",
       "      <td>2009</td>\n",
       "      <td>WD</td>\n",
       "      <td>Normal</td>\n",
       "    </tr>\n",
       "    <tr>\n",
       "      <th>1</th>\n",
       "      <td>50</td>\n",
       "      <td>RL</td>\n",
       "      <td>50.0</td>\n",
       "      <td>5000</td>\n",
       "      <td>Pave</td>\n",
       "      <td>Pave</td>\n",
       "      <td>Reg</td>\n",
       "      <td>Lvl</td>\n",
       "      <td>AllPub</td>\n",
       "      <td>Inside</td>\n",
       "      <td>...</td>\n",
       "      <td>0</td>\n",
       "      <td>0</td>\n",
       "      <td>NaN</td>\n",
       "      <td>NaN</td>\n",
       "      <td>NaN</td>\n",
       "      <td>0</td>\n",
       "      <td>5</td>\n",
       "      <td>2010</td>\n",
       "      <td>WD</td>\n",
       "      <td>Normal</td>\n",
       "    </tr>\n",
       "    <tr>\n",
       "      <th>2</th>\n",
       "      <td>60</td>\n",
       "      <td>RL</td>\n",
       "      <td>NaN</td>\n",
       "      <td>9930</td>\n",
       "      <td>Pave</td>\n",
       "      <td>NaN</td>\n",
       "      <td>IR1</td>\n",
       "      <td>Lvl</td>\n",
       "      <td>AllPub</td>\n",
       "      <td>Inside</td>\n",
       "      <td>...</td>\n",
       "      <td>0</td>\n",
       "      <td>0</td>\n",
       "      <td>NaN</td>\n",
       "      <td>NaN</td>\n",
       "      <td>NaN</td>\n",
       "      <td>0</td>\n",
       "      <td>7</td>\n",
       "      <td>2006</td>\n",
       "      <td>WD</td>\n",
       "      <td>Normal</td>\n",
       "    </tr>\n",
       "    <tr>\n",
       "      <th>3</th>\n",
       "      <td>60</td>\n",
       "      <td>RL</td>\n",
       "      <td>92.0</td>\n",
       "      <td>9920</td>\n",
       "      <td>Pave</td>\n",
       "      <td>NaN</td>\n",
       "      <td>IR1</td>\n",
       "      <td>Lvl</td>\n",
       "      <td>AllPub</td>\n",
       "      <td>CulDSac</td>\n",
       "      <td>...</td>\n",
       "      <td>0</td>\n",
       "      <td>0</td>\n",
       "      <td>NaN</td>\n",
       "      <td>NaN</td>\n",
       "      <td>NaN</td>\n",
       "      <td>0</td>\n",
       "      <td>6</td>\n",
       "      <td>2007</td>\n",
       "      <td>WD</td>\n",
       "      <td>Normal</td>\n",
       "    </tr>\n",
       "    <tr>\n",
       "      <th>4</th>\n",
       "      <td>50</td>\n",
       "      <td>RL</td>\n",
       "      <td>66.0</td>\n",
       "      <td>21780</td>\n",
       "      <td>Pave</td>\n",
       "      <td>NaN</td>\n",
       "      <td>Reg</td>\n",
       "      <td>Lvl</td>\n",
       "      <td>AllPub</td>\n",
       "      <td>Inside</td>\n",
       "      <td>...</td>\n",
       "      <td>144</td>\n",
       "      <td>0</td>\n",
       "      <td>NaN</td>\n",
       "      <td>NaN</td>\n",
       "      <td>NaN</td>\n",
       "      <td>0</td>\n",
       "      <td>7</td>\n",
       "      <td>2008</td>\n",
       "      <td>WD</td>\n",
       "      <td>Normal</td>\n",
       "    </tr>\n",
       "  </tbody>\n",
       "</table>\n",
       "<p>5 rows × 79 columns</p>\n",
       "</div>"
      ],
      "text/plain": [
       "   MSSubClass MSZoning  LotFrontage  LotArea Street Alley LotShape  \\\n",
       "0          20       RL         78.0    10206   Pave   NaN      Reg   \n",
       "1          50       RL         50.0     5000   Pave  Pave      Reg   \n",
       "2          60       RL          NaN     9930   Pave   NaN      IR1   \n",
       "3          60       RL         92.0     9920   Pave   NaN      IR1   \n",
       "4          50       RL         66.0    21780   Pave   NaN      Reg   \n",
       "\n",
       "  LandContour Utilities LotConfig  ... ScreenPorch PoolArea PoolQC Fence  \\\n",
       "0         Lvl    AllPub    Inside  ...           0        0    NaN   NaN   \n",
       "1         Lvl    AllPub    Inside  ...           0        0    NaN   NaN   \n",
       "2         Lvl    AllPub    Inside  ...           0        0    NaN   NaN   \n",
       "3         Lvl    AllPub   CulDSac  ...           0        0    NaN   NaN   \n",
       "4         Lvl    AllPub    Inside  ...         144        0    NaN   NaN   \n",
       "\n",
       "  MiscFeature MiscVal  MoSold  YrSold  SaleType  SaleCondition  \n",
       "0         NaN       0       9    2009        WD         Normal  \n",
       "1         NaN       0       5    2010        WD         Normal  \n",
       "2         NaN       0       7    2006        WD         Normal  \n",
       "3         NaN       0       6    2007        WD         Normal  \n",
       "4         NaN       0       7    2008        WD         Normal  \n",
       "\n",
       "[5 rows x 79 columns]"
      ]
     },
     "execution_count": 976,
     "metadata": {},
     "output_type": "execute_result"
    }
   ],
   "source": [
    "test.head(5)"
   ]
  },
  {
   "cell_type": "code",
   "execution_count": 977,
   "id": "82e6b85f",
   "metadata": {},
   "outputs": [
    {
     "data": {
      "text/plain": [
       "RL         1363\n",
       "RM          276\n",
       "FV           77\n",
       "RH           17\n",
       "C (all)      14\n",
       "Name: MSZoning, dtype: int64"
      ]
     },
     "execution_count": 977,
     "metadata": {},
     "output_type": "execute_result"
    }
   ],
   "source": [
    "train['MSZoning'].value_counts()"
   ]
  },
  {
   "cell_type": "code",
   "execution_count": 978,
   "id": "26054da5",
   "metadata": {},
   "outputs": [
    {
     "data": {
      "text/plain": [
       "<AxesSubplot:xlabel='MSZoning', ylabel='MSSubClass'>"
      ]
     },
     "execution_count": 978,
     "metadata": {},
     "output_type": "execute_result"
    },
    {
     "data": {
      "image/png": "[encoded data removed]",
      "text/plain": [
       "<Figure size 864x432 with 1 Axes>"
      ]
     },
     "metadata": {
      "needs_background": "light"
     },
     "output_type": "display_data"
    }
   ],
   "source": [
    "plt.figure(figsize=(12,6))\n",
    "sns.violinplot(data=train,\n",
    "               y='MSSubClass',\n",
    "               x='MSZoning'\n",
    "              )\n",
    "# plt.ylim(0,120)\n"
   ]
  },
  {
   "cell_type": "code",
   "execution_count": 979,
   "id": "86c0ac87",
   "metadata": {},
   "outputs": [],
   "source": [
    "train['MSZoning'].fillna('N', inplace=True)\n",
    "test['MSZoning'].fillna('N', inplace=True)"
   ]
  },
  {
   "cell_type": "code",
   "execution_count": 980,
   "id": "217daac3",
   "metadata": {},
   "outputs": [],
   "source": [
    "train['Alley'].fillna('No', inplace=True)\n",
    "test['Alley'].fillna('No', inplace=True)"
   ]
  },
  {
   "cell_type": "code",
   "execution_count": 981,
   "id": "f1e24060",
   "metadata": {},
   "outputs": [],
   "source": [
    "train['Utilities'].fillna('AllPub', inplace=True)\n",
    "test['Utilities'].fillna('AllPub', inplace=True)"
   ]
  },
  {
   "cell_type": "code",
   "execution_count": 982,
   "id": "7632035f",
   "metadata": {},
   "outputs": [],
   "source": [
    "train['MasVnrType'].fillna('None', inplace=True)\n",
    "test['MasVnrType'].fillna('None', inplace=True)"
   ]
  },
  {
   "cell_type": "code",
   "execution_count": 983,
   "id": "9b3a6f61",
   "metadata": {},
   "outputs": [],
   "source": [
    "train['MasVnrType'].fillna('None', inplace=True)\n",
    "test['MasVnrType'].fillna('None', inplace=True)"
   ]
  },
  {
   "cell_type": "code",
   "execution_count": 984,
   "id": "3855c3da",
   "metadata": {},
   "outputs": [],
   "source": [
    "train['MasVnrArea'].fillna(0, inplace=True)\n",
    "test['MasVnrArea'].fillna(0, inplace=True)"
   ]
  },
  {
   "cell_type": "code",
   "execution_count": 985,
   "id": "e09d7984",
   "metadata": {},
   "outputs": [
    {
     "data": {
      "text/plain": [
       "TA    772\n",
       "Gd    713\n",
       "Ex    157\n",
       "Fa     56\n",
       "Name: BsmtQual, dtype: int64"
      ]
     },
     "execution_count": 985,
     "metadata": {},
     "output_type": "execute_result"
    }
   ],
   "source": [
    "train['BsmtQual'].value_counts()"
   ]
  },
  {
   "cell_type": "code",
   "execution_count": 986,
   "id": "f29b5ce1",
   "metadata": {},
   "outputs": [],
   "source": [
    "train['BsmtQual'].fillna('TA', inplace=True)\n",
    "test['BsmtQual'].fillna('TA', inplace=True)"
   ]
  },
  {
   "cell_type": "code",
   "execution_count": 987,
   "id": "15f1546d",
   "metadata": {},
   "outputs": [
    {
     "data": {
      "text/plain": [
       "TA    1549\n",
       "Gd      77\n",
       "Fa      68\n",
       "Po       2\n",
       "Name: BsmtCond, dtype: int64"
      ]
     },
     "execution_count": 987,
     "metadata": {},
     "output_type": "execute_result"
    }
   ],
   "source": [
    "train['BsmtCond'].value_counts()"
   ]
  },
  {
   "cell_type": "code",
   "execution_count": 988,
   "id": "52548e12",
   "metadata": {},
   "outputs": [],
   "source": [
    "train['BsmtCond'].fillna('TA', inplace=True)\n",
    "test['BsmtCond'].fillna('TA', inplace=True)"
   ]
  },
  {
   "cell_type": "code",
   "execution_count": 989,
   "id": "5269c284",
   "metadata": {},
   "outputs": [
    {
     "data": {
      "text/plain": [
       "No    1142\n",
       "Av     257\n",
       "Gd     158\n",
       "Mn     141\n",
       "Name: BsmtExposure, dtype: int64"
      ]
     },
     "execution_count": 989,
     "metadata": {},
     "output_type": "execute_result"
    }
   ],
   "source": [
    "train['BsmtExposure'].value_counts()"
   ]
  },
  {
   "cell_type": "code",
   "execution_count": 990,
   "id": "54fa290b",
   "metadata": {},
   "outputs": [],
   "source": [
    "train['BsmtExposure'].fillna('No', inplace=True)\n",
    "test['BsmtExposure'].fillna('No', inplace=True)"
   ]
  },
  {
   "cell_type": "code",
   "execution_count": 991,
   "id": "734f6da6",
   "metadata": {},
   "outputs": [
    {
     "data": {
      "text/plain": [
       "Unf    508\n",
       "GLQ    503\n",
       "ALQ    250\n",
       "Rec    182\n",
       "BLQ    169\n",
       "LwQ     87\n",
       "Name: BsmtFinType1, dtype: int64"
      ]
     },
     "execution_count": 991,
     "metadata": {},
     "output_type": "execute_result"
    }
   ],
   "source": [
    "train['BsmtFinType1'].value_counts()"
   ]
  },
  {
   "cell_type": "code",
   "execution_count": 992,
   "id": "155b25d8",
   "metadata": {},
   "outputs": [],
   "source": [
    "train['BsmtFinType1'].fillna('Unf', inplace=True)\n",
    "test['BsmtFinType1'].fillna('Unf', inplace=True)"
   ]
  },
  {
   "cell_type": "code",
   "execution_count": 993,
   "id": "3fddf36e",
   "metadata": {},
   "outputs": [
    {
     "data": {
      "text/plain": [
       "Unf    1499\n",
       "Rec      64\n",
       "LwQ      50\n",
       "BLQ      42\n",
       "ALQ      31\n",
       "GLQ      13\n",
       "Name: BsmtFinType2, dtype: int64"
      ]
     },
     "execution_count": 993,
     "metadata": {},
     "output_type": "execute_result"
    }
   ],
   "source": [
    "train['BsmtFinType2'].value_counts()"
   ]
  },
  {
   "cell_type": "code",
   "execution_count": 994,
   "id": "3f33c0e2",
   "metadata": {},
   "outputs": [],
   "source": [
    "train['BsmtFinType2'].fillna('Unf', inplace=True)\n",
    "test['BsmtFinType2'].fillna('Unf', inplace=True)"
   ]
  },
  {
   "cell_type": "code",
   "execution_count": 995,
   "id": "0733a307",
   "metadata": {},
   "outputs": [
    {
     "data": {
      "text/plain": [
       "Gd    438\n",
       "TA    364\n",
       "Fa     42\n",
       "Po     26\n",
       "Ex     22\n",
       "Name: FireplaceQu, dtype: int64"
      ]
     },
     "execution_count": 995,
     "metadata": {},
     "output_type": "execute_result"
    }
   ],
   "source": [
    "train['FireplaceQu'].value_counts()"
   ]
  },
  {
   "cell_type": "code",
   "execution_count": 996,
   "id": "4fb2f715",
   "metadata": {},
   "outputs": [],
   "source": [
    "train['FireplaceQu'].fillna('N', inplace=True)\n",
    "test['FireplaceQu'].fillna('N', inplace=True)"
   ]
  },
  {
   "cell_type": "code",
   "execution_count": 997,
   "id": "7fa46dee",
   "metadata": {},
   "outputs": [
    {
     "data": {
      "text/plain": [
       "Attchd     1040\n",
       "Detchd      466\n",
       "BuiltIn     100\n",
       "Basment      22\n",
       "2Types       14\n",
       "CarPort      10\n",
       "Name: GarageType, dtype: int64"
      ]
     },
     "execution_count": 997,
     "metadata": {},
     "output_type": "execute_result"
    }
   ],
   "source": [
    "train['GarageType'].value_counts()"
   ]
  },
  {
   "cell_type": "code",
   "execution_count": 998,
   "id": "6746b3db",
   "metadata": {},
   "outputs": [],
   "source": [
    "train['GarageType'].fillna('Attchd', inplace=True)\n",
    "test['GarageType'].fillna('Attchd', inplace=True)"
   ]
  },
  {
   "cell_type": "code",
   "execution_count": 999,
   "id": "78a08bd5",
   "metadata": {},
   "outputs": [
    {
     "data": {
      "text/plain": [
       "2005.0    80\n",
       "2006.0    67\n",
       "2004.0    65\n",
       "2007.0    64\n",
       "2003.0    55\n",
       "          ..\n",
       "1908.0     1\n",
       "1906.0     1\n",
       "1923.0     1\n",
       "1943.0     1\n",
       "1919.0     1\n",
       "Name: GarageYrBlt, Length: 99, dtype: int64"
      ]
     },
     "execution_count": 999,
     "metadata": {},
     "output_type": "execute_result"
    }
   ],
   "source": [
    "train['GarageYrBlt'].value_counts()"
   ]
  },
  {
   "cell_type": "code",
   "execution_count": 1000,
   "id": "452e9abe",
   "metadata": {},
   "outputs": [],
   "source": [
    "train['GarageYrBlt'].fillna(method='ffill', limit=1, inplace=True)\n",
    "test['GarageYrBlt'].fillna(method='ffill', limit=1, inplace=True)"
   ]
  },
  {
   "cell_type": "code",
   "execution_count": 1001,
   "id": "8d67fffe",
   "metadata": {},
   "outputs": [],
   "source": [
    "train['GarageYrBlt'].fillna(method='ffill', limit=1, inplace=True)\n",
    "test['GarageYrBlt'].fillna(method='ffill', limit=1, inplace=True)"
   ]
  },
  {
   "cell_type": "code",
   "execution_count": 1002,
   "id": "bf96d313",
   "metadata": {},
   "outputs": [
    {
     "data": {
      "text/plain": [
       "Unf    736\n",
       "RFn    479\n",
       "Fin    436\n",
       "Name: GarageFinish, dtype: int64"
      ]
     },
     "execution_count": 1002,
     "metadata": {},
     "output_type": "execute_result"
    }
   ],
   "source": [
    "train['GarageFinish'].value_counts()"
   ]
  },
  {
   "cell_type": "code",
   "execution_count": 1003,
   "id": "a43e0bca",
   "metadata": {},
   "outputs": [],
   "source": [
    "train['GarageType'].fillna('Unf', inplace=True)\n",
    "test['GarageType'].fillna('Unf', inplace=True)"
   ]
  },
  {
   "cell_type": "code",
   "execution_count": 1004,
   "id": "36079312",
   "metadata": {
    "scrolled": true
   },
   "outputs": [
    {
     "name": "stdout",
     "output_type": "stream",
     "text": [
      "<class 'pandas.core.frame.DataFrame'>\n",
      "RangeIndex: 1751 entries, 0 to 1750\n",
      "Data columns (total 80 columns):\n",
      " #   Column         Non-Null Count  Dtype  \n",
      "---  ------         --------------  -----  \n",
      " 0   MSSubClass     1751 non-null   int64  \n",
      " 1   MSZoning       1751 non-null   object \n",
      " 2   LotFrontage    1450 non-null   float64\n",
      " 3   LotArea        1751 non-null   int64  \n",
      " 4   Street         1751 non-null   object \n",
      " 5   Alley          1751 non-null   object \n",
      " 6   LotShape       1751 non-null   object \n",
      " 7   LandContour    1751 non-null   object \n",
      " 8   Utilities      1751 non-null   object \n",
      " 9   LotConfig      1751 non-null   object \n",
      " 10  LandSlope      1751 non-null   object \n",
      " 11  Neighborhood   1751 non-null   object \n",
      " 12  Condition1     1751 non-null   object \n",
      " 13  Condition2     1751 non-null   object \n",
      " 14  BldgType       1751 non-null   object \n",
      " 15  HouseStyle     1751 non-null   object \n",
      " 16  OverallQual    1751 non-null   int64  \n",
      " 17  OverallCond    1751 non-null   int64  \n",
      " 18  YearBuilt      1751 non-null   int64  \n",
      " 19  YearRemodAdd   1751 non-null   int64  \n",
      " 20  RoofStyle      1751 non-null   object \n",
      " 21  RoofMatl       1751 non-null   object \n",
      " 22  Exterior1st    1751 non-null   object \n",
      " 23  Exterior2nd    1751 non-null   object \n",
      " 24  MasVnrType     1751 non-null   object \n",
      " 25  MasVnrArea     1751 non-null   float64\n",
      " 26  ExterQual      1751 non-null   object \n",
      " 27  ExterCond      1751 non-null   object \n",
      " 28  Foundation     1751 non-null   object \n",
      " 29  BsmtQual       1751 non-null   object \n",
      " 30  BsmtCond       1751 non-null   object \n",
      " 31  BsmtExposure   1751 non-null   object \n",
      " 32  BsmtFinType1   1751 non-null   object \n",
      " 33  BsmtFinSF1     1750 non-null   float64\n",
      " 34  BsmtFinType2   1751 non-null   object \n",
      " 35  BsmtFinSF2     1750 non-null   float64\n",
      " 36  BsmtUnfSF      1750 non-null   float64\n",
      " 37  TotalBsmtSF    1750 non-null   float64\n",
      " 38  Heating        1751 non-null   object \n",
      " 39  HeatingQC      1751 non-null   object \n",
      " 40  CentralAir     1751 non-null   object \n",
      " 41  Electrical     1750 non-null   object \n",
      " 42  1stFlrSF       1751 non-null   int64  \n",
      " 43  2ndFlrSF       1751 non-null   int64  \n",
      " 44  LowQualFinSF   1751 non-null   int64  \n",
      " 45  GrLivArea      1751 non-null   int64  \n",
      " 46  BsmtFullBath   1750 non-null   float64\n",
      " 47  BsmtHalfBath   1750 non-null   float64\n",
      " 48  FullBath       1751 non-null   int64  \n",
      " 49  HalfBath       1751 non-null   int64  \n",
      " 50  BedroomAbvGr   1751 non-null   int64  \n",
      " 51  KitchenAbvGr   1751 non-null   int64  \n",
      " 52  KitchenQual    1751 non-null   object \n",
      " 53  TotRmsAbvGrd   1751 non-null   int64  \n",
      " 54  Functional     1749 non-null   object \n",
      " 55  Fireplaces     1751 non-null   int64  \n",
      " 56  FireplaceQu    1751 non-null   object \n",
      " 57  GarageType     1751 non-null   object \n",
      " 58  GarageYrBlt    1751 non-null   float64\n",
      " 59  GarageFinish   1651 non-null   object \n",
      " 60  GarageCars     1750 non-null   float64\n",
      " 61  GarageArea     1750 non-null   float64\n",
      " 62  GarageQual     1651 non-null   object \n",
      " 63  GarageCond     1651 non-null   object \n",
      " 64  PavedDrive     1751 non-null   object \n",
      " 65  WoodDeckSF     1751 non-null   int64  \n",
      " 66  OpenPorchSF    1751 non-null   int64  \n",
      " 67  EnclosedPorch  1751 non-null   int64  \n",
      " 68  3SsnPorch      1751 non-null   int64  \n",
      " 69  ScreenPorch    1751 non-null   int64  \n",
      " 70  PoolArea       1751 non-null   int64  \n",
      " 71  PoolQC         4 non-null      object \n",
      " 72  Fence          339 non-null    object \n",
      " 73  MiscFeature    63 non-null     object \n",
      " 74  MiscVal        1751 non-null   int64  \n",
      " 75  MoSold         1751 non-null   int64  \n",
      " 76  YrSold         1751 non-null   int64  \n",
      " 77  SaleType       1751 non-null   object \n",
      " 78  SaleCondition  1751 non-null   object \n",
      " 79  SalePrice      1751 non-null   float64\n",
      "dtypes: float64(12), int64(25), object(43)\n",
      "memory usage: 1.1+ MB\n"
     ]
    }
   ],
   "source": [
    "train.info()"
   ]
  },
  {
   "cell_type": "code",
   "execution_count": 1005,
   "id": "3dbd3461",
   "metadata": {},
   "outputs": [
    {
     "data": {
      "text/plain": [
       "Unf    736\n",
       "RFn    479\n",
       "Fin    436\n",
       "Name: GarageFinish, dtype: int64"
      ]
     },
     "execution_count": 1005,
     "metadata": {},
     "output_type": "execute_result"
    }
   ],
   "source": [
    "train['GarageFinish'].value_counts()"
   ]
  },
  {
   "cell_type": "code",
   "execution_count": 1006,
   "id": "ae9888af",
   "metadata": {},
   "outputs": [],
   "source": [
    "train['GarageFinish'].fillna('Unf', inplace=True)\n",
    "test['GarageFinish'].fillna('Unf', inplace=True)"
   ]
  },
  {
   "cell_type": "code",
   "execution_count": 1007,
   "id": "3107cc99",
   "metadata": {},
   "outputs": [
    {
     "data": {
      "text/plain": [
       "TA    1561\n",
       "Fa      72\n",
       "Gd      12\n",
       "Ex       3\n",
       "Po       3\n",
       "Name: GarageQual, dtype: int64"
      ]
     },
     "execution_count": 1007,
     "metadata": {},
     "output_type": "execute_result"
    }
   ],
   "source": [
    "\n",
    "train['GarageQual'].value_counts()"
   ]
  },
  {
   "cell_type": "code",
   "execution_count": 1008,
   "id": "c57f083f",
   "metadata": {},
   "outputs": [],
   "source": [
    "train['GarageQual'].fillna('TA', inplace=True)\n",
    "test['GarageQual'].fillna('TA', inplace=True)"
   ]
  },
  {
   "cell_type": "code",
   "execution_count": 1009,
   "id": "ca433c0d",
   "metadata": {},
   "outputs": [
    {
     "data": {
      "text/plain": [
       "TA    1583\n",
       "Fa      48\n",
       "Gd      10\n",
       "Po       7\n",
       "Ex       3\n",
       "Name: GarageCond, dtype: int64"
      ]
     },
     "execution_count": 1009,
     "metadata": {},
     "output_type": "execute_result"
    }
   ],
   "source": [
    "train['GarageCond'].value_counts()"
   ]
  },
  {
   "cell_type": "code",
   "execution_count": 1010,
   "id": "10279627",
   "metadata": {},
   "outputs": [],
   "source": [
    "train['GarageCond'].fillna('TA', inplace=True)\n",
    "test['GarageCond'].fillna('TA', inplace=True)"
   ]
  },
  {
   "cell_type": "code",
   "execution_count": 1011,
   "id": "4ea52536",
   "metadata": {},
   "outputs": [],
   "source": [
    "\n",
    "train['PoolQC'].fillna('No', inplace=True)\n",
    "test['PoolQC'].fillna('No', inplace=True)"
   ]
  },
  {
   "cell_type": "code",
   "execution_count": 1012,
   "id": "26bd39c2",
   "metadata": {},
   "outputs": [
    {
     "data": {
      "text/plain": [
       "No    1747\n",
       "Gd       2\n",
       "Ex       2\n",
       "Name: PoolQC, dtype: int64"
      ]
     },
     "execution_count": 1012,
     "metadata": {},
     "output_type": "execute_result"
    }
   ],
   "source": [
    "train['PoolQC'].value_counts()"
   ]
  },
  {
   "cell_type": "code",
   "execution_count": 1013,
   "id": "09fc0f27",
   "metadata": {},
   "outputs": [
    {
     "data": {
      "text/plain": [
       "MnPrv    199\n",
       "GdPrv     68\n",
       "GdWo      61\n",
       "MnWw      11\n",
       "Name: Fence, dtype: int64"
      ]
     },
     "execution_count": 1013,
     "metadata": {},
     "output_type": "execute_result"
    }
   ],
   "source": [
    "train['Fence'].value_counts()"
   ]
  },
  {
   "cell_type": "code",
   "execution_count": 1014,
   "id": "7c1e1d4b",
   "metadata": {},
   "outputs": [],
   "source": [
    "train['Fence'].fillna('None', inplace=True)\n",
    "test['Fence'].fillna('None', inplace=True)"
   ]
  },
  {
   "cell_type": "code",
   "execution_count": 1015,
   "id": "0efbda22",
   "metadata": {},
   "outputs": [
    {
     "data": {
      "text/plain": [
       "Shed    57\n",
       "Gar2     4\n",
       "Othr     2\n",
       "Name: MiscFeature, dtype: int64"
      ]
     },
     "execution_count": 1015,
     "metadata": {},
     "output_type": "execute_result"
    }
   ],
   "source": [
    "train['MiscFeature'].value_counts()"
   ]
  },
  {
   "cell_type": "code",
   "execution_count": 1016,
   "id": "470fc89c",
   "metadata": {},
   "outputs": [],
   "source": [
    "train['MiscFeature'].fillna('None', inplace=True)\n",
    "test['MiscFeature'].fillna('None', inplace=True)"
   ]
  },
  {
   "cell_type": "code",
   "execution_count": 1017,
   "id": "79913c01",
   "metadata": {},
   "outputs": [
    {
     "data": {
      "text/plain": [
       "60.0     171\n",
       "80.0      84\n",
       "70.0      78\n",
       "50.0      73\n",
       "65.0      57\n",
       "        ... \n",
       "200.0      1\n",
       "106.0      1\n",
       "126.0      1\n",
       "141.0      1\n",
       "153.0      1\n",
       "Name: LotFrontage, Length: 115, dtype: int64"
      ]
     },
     "execution_count": 1017,
     "metadata": {},
     "output_type": "execute_result"
    }
   ],
   "source": [
    "train['LotFrontage'].value_counts()"
   ]
  },
  {
   "cell_type": "code",
   "execution_count": 1018,
   "id": "9036a54b",
   "metadata": {},
   "outputs": [],
   "source": [
    "train['LotFrontage'].fillna(method='ffill', limit=1, inplace=True)\n",
    "test['LotFrontage'].fillna(method='ffill', limit=1, inplace=True)"
   ]
  },
  {
   "cell_type": "code",
   "execution_count": 1019,
   "id": "7ad1b570",
   "metadata": {},
   "outputs": [],
   "source": [
    "train['LotFrontage'].fillna(method='ffill', limit=1, inplace=True)\n",
    "test['LotFrontage'].fillna(method='ffill', limit=1, inplace=True)"
   ]
  },
  {
   "cell_type": "code",
   "execution_count": 1020,
   "id": "8481f9e1",
   "metadata": {},
   "outputs": [
    {
     "data": {
      "text/plain": [
       "60.0     197\n",
       "80.0      99\n",
       "70.0      93\n",
       "50.0      92\n",
       "75.0      74\n",
       "        ... \n",
       "174.0      1\n",
       "116.0      1\n",
       "25.0       1\n",
       "135.0      1\n",
       "153.0      1\n",
       "Name: LotFrontage, Length: 115, dtype: int64"
      ]
     },
     "execution_count": 1020,
     "metadata": {},
     "output_type": "execute_result"
    }
   ],
   "source": [
    "train['LotFrontage'].value_counts()"
   ]
  },
  {
   "cell_type": "code",
   "execution_count": 1023,
   "id": "3a2119b8",
   "metadata": {},
   "outputs": [
    {
     "data": {
      "text/plain": [
       "60.0     126\n",
       "70.0      64\n",
       "75.0      57\n",
       "80.0      56\n",
       "50.0      54\n",
       "        ... \n",
       "116.0      1\n",
       "38.0       1\n",
       "115.0      1\n",
       "111.0      1\n",
       "22.0       1\n",
       "Name: LotFrontage, Length: 110, dtype: int64"
      ]
     },
     "execution_count": 1023,
     "metadata": {},
     "output_type": "execute_result"
    }
   ],
   "source": [
    "test['LotFrontage'].value_counts()"
   ]
  },
  {
   "cell_type": "code",
   "execution_count": 1024,
   "id": "554f99cb",
   "metadata": {},
   "outputs": [],
   "source": [
    "train['LotFrontage'].fillna(60, inplace=True)\n",
    "test['LotFrontage'].fillna(60, inplace=True)"
   ]
  },
  {
   "cell_type": "code",
   "execution_count": 1025,
   "id": "5828d810",
   "metadata": {},
   "outputs": [
    {
     "data": {
      "text/plain": [
       "0.0       559\n",
       "24.0       15\n",
       "16.0        7\n",
       "288.0       6\n",
       "384.0       6\n",
       "         ... \n",
       "170.0       1\n",
       "1033.0      1\n",
       "73.0        1\n",
       "813.0       1\n",
       "803.0       1\n",
       "Name: BsmtFinSF1, Length: 750, dtype: int64"
      ]
     },
     "execution_count": 1025,
     "metadata": {},
     "output_type": "execute_result"
    }
   ],
   "source": [
    "train['BsmtFinSF1'].value_counts()"
   ]
  },
  {
   "cell_type": "code",
   "execution_count": 1026,
   "id": "3c6cce91",
   "metadata": {},
   "outputs": [],
   "source": [
    "train['BsmtFinSF1'].fillna(0.0, inplace=True)"
   ]
  },
  {
   "cell_type": "code",
   "execution_count": 1027,
   "id": "e66221af",
   "metadata": {},
   "outputs": [
    {
     "data": {
      "text/plain": [
       "0.0       157\n",
       "384.0      10\n",
       "270.0       8\n",
       "728.0       7\n",
       "324.0       7\n",
       "         ... \n",
       "1618.0      1\n",
       "165.0       1\n",
       "1504.0      1\n",
       "519.0       1\n",
       "581.0       1\n",
       "Name: BsmtUnfSF, Length: 873, dtype: int64"
      ]
     },
     "execution_count": 1027,
     "metadata": {},
     "output_type": "execute_result"
    }
   ],
   "source": [
    "train['BsmtUnfSF'].value_counts()"
   ]
  },
  {
   "cell_type": "code",
   "execution_count": 1028,
   "id": "7ab85b95",
   "metadata": {},
   "outputs": [],
   "source": [
    "train['BsmtUnfSF'].fillna(0.0, inplace=True)"
   ]
  },
  {
   "cell_type": "code",
   "execution_count": 1029,
   "id": "12523ffa",
   "metadata": {},
   "outputs": [
    {
     "data": {
      "text/plain": [
       "0.0      1550\n",
       "180.0       4\n",
       "539.0       3\n",
       "483.0       3\n",
       "374.0       3\n",
       "         ... \n",
       "466.0       1\n",
       "6.0         1\n",
       "382.0       1\n",
       "177.0       1\n",
       "419.0       1\n",
       "Name: BsmtFinSF2, Length: 167, dtype: int64"
      ]
     },
     "execution_count": 1029,
     "metadata": {},
     "output_type": "execute_result"
    }
   ],
   "source": [
    "train['BsmtFinSF2'].value_counts()"
   ]
  },
  {
   "cell_type": "code",
   "execution_count": 1030,
   "id": "de1d07b3",
   "metadata": {},
   "outputs": [],
   "source": [
    "train['BsmtFinSF2'].fillna(0.0, inplace=True)"
   ]
  },
  {
   "cell_type": "code",
   "execution_count": 1031,
   "id": "07b8d549",
   "metadata": {},
   "outputs": [
    {
     "data": {
      "text/plain": [
       "0.0       51\n",
       "864.0     50\n",
       "672.0     17\n",
       "912.0     17\n",
       "816.0     15\n",
       "          ..\n",
       "1779.0     1\n",
       "1638.0     1\n",
       "2033.0     1\n",
       "1281.0     1\n",
       "1243.0     1\n",
       "Name: TotalBsmtSF, Length: 821, dtype: int64"
      ]
     },
     "execution_count": 1031,
     "metadata": {},
     "output_type": "execute_result"
    }
   ],
   "source": [
    "train['TotalBsmtSF'].value_counts()"
   ]
  },
  {
   "cell_type": "code",
   "execution_count": 1032,
   "id": "ca0bf462",
   "metadata": {},
   "outputs": [],
   "source": [
    "train['TotalBsmtSF'].fillna(0.0, inplace=True)"
   ]
  },
  {
   "cell_type": "code",
   "execution_count": 1033,
   "id": "9e993e36",
   "metadata": {},
   "outputs": [
    {
     "data": {
      "text/plain": [
       "0.0    1045\n",
       "1.0     683\n",
       "2.0      21\n",
       "3.0       1\n",
       "Name: BsmtFullBath, dtype: int64"
      ]
     },
     "execution_count": 1033,
     "metadata": {},
     "output_type": "execute_result"
    }
   ],
   "source": [
    "\n",
    "train['BsmtFullBath'].value_counts()"
   ]
  },
  {
   "cell_type": "code",
   "execution_count": 1034,
   "id": "fa992b61",
   "metadata": {},
   "outputs": [],
   "source": [
    "train['BsmtFullBath'].fillna(0.0, inplace=True)"
   ]
  },
  {
   "cell_type": "code",
   "execution_count": 1035,
   "id": "6f0c531d",
   "metadata": {},
   "outputs": [
    {
     "data": {
      "text/plain": [
       "0.0    1649\n",
       "1.0      98\n",
       "2.0       3\n",
       "Name: BsmtHalfBath, dtype: int64"
      ]
     },
     "execution_count": 1035,
     "metadata": {},
     "output_type": "execute_result"
    }
   ],
   "source": [
    "train['BsmtHalfBath'].value_counts()"
   ]
  },
  {
   "cell_type": "code",
   "execution_count": 1036,
   "id": "eada1b6b",
   "metadata": {},
   "outputs": [],
   "source": [
    "train['BsmtHalfBath'].fillna(0.0, inplace=True)"
   ]
  },
  {
   "cell_type": "code",
   "execution_count": 1037,
   "id": "38692666",
   "metadata": {},
   "outputs": [
    {
     "data": {
      "text/plain": [
       "Typ     1629\n",
       "Min2      47\n",
       "Min1      39\n",
       "Maj1      13\n",
       "Mod       12\n",
       "Maj2       7\n",
       "Sev        2\n",
       "Name: Functional, dtype: int64"
      ]
     },
     "execution_count": 1037,
     "metadata": {},
     "output_type": "execute_result"
    }
   ],
   "source": [
    "train['Functional'].value_counts()"
   ]
  },
  {
   "cell_type": "code",
   "execution_count": 1038,
   "id": "37aaf944",
   "metadata": {},
   "outputs": [],
   "source": [
    "train['Functional'].fillna('Typ', inplace=True)"
   ]
  },
  {
   "cell_type": "code",
   "execution_count": 1039,
   "id": "dd98d59d",
   "metadata": {},
   "outputs": [
    {
     "data": {
      "text/plain": [
       "2.0    954\n",
       "1.0    459\n",
       "3.0    229\n",
       "0.0     99\n",
       "4.0      8\n",
       "5.0      1\n",
       "Name: GarageCars, dtype: int64"
      ]
     },
     "execution_count": 1039,
     "metadata": {},
     "output_type": "execute_result"
    }
   ],
   "source": [
    "train['GarageCars'].value_counts()"
   ]
  },
  {
   "cell_type": "code",
   "execution_count": 1040,
   "id": "36f5baac",
   "metadata": {},
   "outputs": [],
   "source": [
    "train['GarageCars'].fillna(2.0, inplace=True)"
   ]
  },
  {
   "cell_type": "code",
   "execution_count": 1041,
   "id": "05d4ce75",
   "metadata": {},
   "outputs": [
    {
     "data": {
      "text/plain": [
       "0.0      99\n",
       "576.0    64\n",
       "440.0    63\n",
       "240.0    41\n",
       "528.0    39\n",
       "         ..\n",
       "613.0     1\n",
       "751.0     1\n",
       "313.0     1\n",
       "599.0     1\n",
       "904.0     1\n",
       "Name: GarageArea, Length: 498, dtype: int64"
      ]
     },
     "execution_count": 1041,
     "metadata": {},
     "output_type": "execute_result"
    }
   ],
   "source": [
    "train['GarageArea'].value_counts()"
   ]
  },
  {
   "cell_type": "code",
   "execution_count": 1042,
   "id": "729d0934",
   "metadata": {},
   "outputs": [],
   "source": [
    "train['GarageArea'].fillna(0.0, inplace=True)"
   ]
  },
  {
   "cell_type": "code",
   "execution_count": 1043,
   "id": "59d9a364",
   "metadata": {},
   "outputs": [
    {
     "data": {
      "text/plain": [
       "SBrkr    1601\n",
       "FuseA     104\n",
       "FuseF      40\n",
       "FuseP       4\n",
       "Mix         1\n",
       "Name: Electrical, dtype: int64"
      ]
     },
     "execution_count": 1043,
     "metadata": {},
     "output_type": "execute_result"
    }
   ],
   "source": [
    "train['Electrical'].value_counts()"
   ]
  },
  {
   "cell_type": "code",
   "execution_count": 1044,
   "id": "755f2fab",
   "metadata": {},
   "outputs": [],
   "source": [
    "train['Electrical'].fillna('SBrkr', inplace=True)"
   ]
  },
  {
   "cell_type": "code",
   "execution_count": 1047,
   "id": "20812cd8",
   "metadata": {},
   "outputs": [
    {
     "data": {
      "text/plain": [
       "VinylSd    418\n",
       "Wd Sdng    175\n",
       "HdBoard    175\n",
       "MetalSd    167\n",
       "Plywood     80\n",
       "CemntBd     54\n",
       "BrkFace     42\n",
       "WdShing     20\n",
       "Stucco      17\n",
       "AsbShng     14\n",
       "BrkComm      3\n",
       "ImStucc      1\n",
       "AsphShn      1\n",
       "Name: Exterior1st, dtype: int64"
      ]
     },
     "execution_count": 1047,
     "metadata": {},
     "output_type": "execute_result"
    }
   ],
   "source": [
    "test['Exterior1st'].value_counts()"
   ]
  },
  {
   "cell_type": "code",
   "execution_count": 1048,
   "id": "45b8fdd3",
   "metadata": {},
   "outputs": [],
   "source": [
    "test['Exterior1st'].fillna('VinylSd', inplace=True)"
   ]
  },
  {
   "cell_type": "code",
   "execution_count": 1049,
   "id": "567d4bfa",
   "metadata": {},
   "outputs": [
    {
     "data": {
      "text/plain": [
       "VinylSd    412\n",
       "Wd Sdng    176\n",
       "MetalSd    164\n",
       "HdBoard    158\n",
       "Plywood    101\n",
       "CmentBd     53\n",
       "Wd Shng     27\n",
       "BrkFace     23\n",
       "Stucco      18\n",
       "AsbShng     14\n",
       "Brk Cmn      8\n",
       "ImStucc      7\n",
       "AsphShn      3\n",
       "Stone        3\n",
       "Name: Exterior2nd, dtype: int64"
      ]
     },
     "execution_count": 1049,
     "metadata": {},
     "output_type": "execute_result"
    }
   ],
   "source": [
    "test['Exterior2nd'].value_counts()"
   ]
  },
  {
   "cell_type": "code",
   "execution_count": 1050,
   "id": "89aeb4b2",
   "metadata": {},
   "outputs": [],
   "source": [
    "test['Exterior2nd'].fillna('VinylSd', inplace=True)"
   ]
  },
  {
   "cell_type": "code",
   "execution_count": 1051,
   "id": "db11fba2",
   "metadata": {},
   "outputs": [
    {
     "data": {
      "text/plain": [
       "TA    580\n",
       "Gd    472\n",
       "Ex     83\n",
       "Fa     32\n",
       "Name: KitchenQual, dtype: int64"
      ]
     },
     "execution_count": 1051,
     "metadata": {},
     "output_type": "execute_result"
    }
   ],
   "source": [
    "test['KitchenQual'].value_counts()"
   ]
  },
  {
   "cell_type": "code",
   "execution_count": 1052,
   "id": "b826b1df",
   "metadata": {},
   "outputs": [],
   "source": [
    "test['KitchenQual'].fillna('TA', inplace=True)"
   ]
  },
  {
   "cell_type": "code",
   "execution_count": 1053,
   "id": "74374c1b",
   "metadata": {},
   "outputs": [
    {
     "data": {
      "text/plain": [
       "WD       1004\n",
       "New        94\n",
       "COD        40\n",
       "ConLD      14\n",
       "CWD         5\n",
       "Oth         3\n",
       "Con         3\n",
       "ConLw       2\n",
       "ConLI       2\n",
       "Name: SaleType, dtype: int64"
      ]
     },
     "execution_count": 1053,
     "metadata": {},
     "output_type": "execute_result"
    }
   ],
   "source": [
    "test['SaleType'].value_counts()"
   ]
  },
  {
   "cell_type": "code",
   "execution_count": 1054,
   "id": "72936a33",
   "metadata": {},
   "outputs": [],
   "source": [
    "test['SaleType'].fillna('WD', inplace=True)"
   ]
  },
  {
   "cell_type": "code",
   "execution_count": 1055,
   "id": "d3bf96a1",
   "metadata": {},
   "outputs": [
    {
     "data": {
      "text/plain": [
       "0.0    660\n",
       "1.0    489\n",
       "2.0     17\n",
       "3.0      1\n",
       "Name: BsmtFullBath, dtype: int64"
      ]
     },
     "execution_count": 1055,
     "metadata": {},
     "output_type": "execute_result"
    }
   ],
   "source": [
    "test['BsmtFullBath'].value_counts()"
   ]
  },
  {
   "cell_type": "code",
   "execution_count": 1056,
   "id": "5b4b2216",
   "metadata": {},
   "outputs": [],
   "source": [
    "test['BsmtFullBath'].fillna(0.0, inplace=True)"
   ]
  },
  {
   "cell_type": "code",
   "execution_count": 1057,
   "id": "f24b600d",
   "metadata": {},
   "outputs": [
    {
     "data": {
      "text/plain": [
       "0.0    1093\n",
       "1.0      73\n",
       "2.0       1\n",
       "Name: BsmtHalfBath, dtype: int64"
      ]
     },
     "execution_count": 1057,
     "metadata": {},
     "output_type": "execute_result"
    }
   ],
   "source": [
    "test['BsmtHalfBath'].value_counts()"
   ]
  },
  {
   "cell_type": "code",
   "execution_count": 1058,
   "id": "846f0922",
   "metadata": {
    "scrolled": true
   },
   "outputs": [
    {
     "name": "stdout",
     "output_type": "stream",
     "text": [
      "<class 'pandas.core.frame.DataFrame'>\n",
      "RangeIndex: 1751 entries, 0 to 1750\n",
      "Data columns (total 80 columns):\n",
      " #   Column         Non-Null Count  Dtype  \n",
      "---  ------         --------------  -----  \n",
      " 0   MSSubClass     1751 non-null   int64  \n",
      " 1   MSZoning       1751 non-null   object \n",
      " 2   LotFrontage    1751 non-null   float64\n",
      " 3   LotArea        1751 non-null   int64  \n",
      " 4   Street         1751 non-null   object \n",
      " 5   Alley          1751 non-null   object \n",
      " 6   LotShape       1751 non-null   object \n",
      " 7   LandContour    1751 non-null   object \n",
      " 8   Utilities      1751 non-null   object \n",
      " 9   LotConfig      1751 non-null   object \n",
      " 10  LandSlope      1751 non-null   object \n",
      " 11  Neighborhood   1751 non-null   object \n",
      " 12  Condition1     1751 non-null   object \n",
      " 13  Condition2     1751 non-null   object \n",
      " 14  BldgType       1751 non-null   object \n",
      " 15  HouseStyle     1751 non-null   object \n",
      " 16  OverallQual    1751 non-null   int64  \n",
      " 17  OverallCond    1751 non-null   int64  \n",
      " 18  YearBuilt      1751 non-null   int64  \n",
      " 19  YearRemodAdd   1751 non-null   int64  \n",
      " 20  RoofStyle      1751 non-null   object \n",
      " 21  RoofMatl       1751 non-null   object \n",
      " 22  Exterior1st    1751 non-null   object \n",
      " 23  Exterior2nd    1751 non-null   object \n",
      " 24  MasVnrType     1751 non-null   object \n",
      " 25  MasVnrArea     1751 non-null   float64\n",
      " 26  ExterQual      1751 non-null   object \n",
      " 27  ExterCond      1751 non-null   object \n",
      " 28  Foundation     1751 non-null   object \n",
      " 29  BsmtQual       1751 non-null   object \n",
      " 30  BsmtCond       1751 non-null   object \n",
      " 31  BsmtExposure   1751 non-null   object \n",
      " 32  BsmtFinType1   1751 non-null   object \n",
      " 33  BsmtFinSF1     1751 non-null   float64\n",
      " 34  BsmtFinType2   1751 non-null   object \n",
      " 35  BsmtFinSF2     1751 non-null   float64\n",
      " 36  BsmtUnfSF      1751 non-null   float64\n",
      " 37  TotalBsmtSF    1751 non-null   float64\n",
      " 38  Heating        1751 non-null   object \n",
      " 39  HeatingQC      1751 non-null   object \n",
      " 40  CentralAir     1751 non-null   object \n",
      " 41  Electrical     1751 non-null   object \n",
      " 42  1stFlrSF       1751 non-null   int64  \n",
      " 43  2ndFlrSF       1751 non-null   int64  \n",
      " 44  LowQualFinSF   1751 non-null   int64  \n",
      " 45  GrLivArea      1751 non-null   int64  \n",
      " 46  BsmtFullBath   1751 non-null   float64\n",
      " 47  BsmtHalfBath   1751 non-null   float64\n",
      " 48  FullBath       1751 non-null   int64  \n",
      " 49  HalfBath       1751 non-null   int64  \n",
      " 50  BedroomAbvGr   1751 non-null   int64  \n",
      " 51  KitchenAbvGr   1751 non-null   int64  \n",
      " 52  KitchenQual    1751 non-null   object \n",
      " 53  TotRmsAbvGrd   1751 non-null   int64  \n",
      " 54  Functional     1751 non-null   object \n",
      " 55  Fireplaces     1751 non-null   int64  \n",
      " 56  FireplaceQu    1751 non-null   object \n",
      " 57  GarageType     1751 non-null   object \n",
      " 58  GarageYrBlt    1751 non-null   float64\n",
      " 59  GarageFinish   1751 non-null   object \n",
      " 60  GarageCars     1751 non-null   float64\n",
      " 61  GarageArea     1751 non-null   float64\n",
      " 62  GarageQual     1751 non-null   object \n",
      " 63  GarageCond     1751 non-null   object \n",
      " 64  PavedDrive     1751 non-null   object \n",
      " 65  WoodDeckSF     1751 non-null   int64  \n",
      " 66  OpenPorchSF    1751 non-null   int64  \n",
      " 67  EnclosedPorch  1751 non-null   int64  \n",
      " 68  3SsnPorch      1751 non-null   int64  \n",
      " 69  ScreenPorch    1751 non-null   int64  \n",
      " 70  PoolArea       1751 non-null   int64  \n",
      " 71  PoolQC         1751 non-null   object \n",
      " 72  Fence          1751 non-null   object \n",
      " 73  MiscFeature    1751 non-null   object \n",
      " 74  MiscVal        1751 non-null   int64  \n",
      " 75  MoSold         1751 non-null   int64  \n",
      " 76  YrSold         1751 non-null   int64  \n",
      " 77  SaleType       1751 non-null   object \n",
      " 78  SaleCondition  1751 non-null   object \n",
      " 79  SalePrice      1751 non-null   float64\n",
      "dtypes: float64(12), int64(25), object(43)\n",
      "memory usage: 1.1+ MB\n"
     ]
    }
   ],
   "source": [
    "train.info()"
   ]
  },
  {
   "cell_type": "code",
   "execution_count": 1059,
   "id": "09162375",
   "metadata": {
    "scrolled": true
   },
   "outputs": [
    {
     "name": "stdout",
     "output_type": "stream",
     "text": [
      "<class 'pandas.core.frame.DataFrame'>\n",
      "RangeIndex: 1168 entries, 0 to 1167\n",
      "Data columns (total 79 columns):\n",
      " #   Column         Non-Null Count  Dtype  \n",
      "---  ------         --------------  -----  \n",
      " 0   MSSubClass     1168 non-null   int64  \n",
      " 1   MSZoning       1168 non-null   object \n",
      " 2   LotFrontage    1168 non-null   float64\n",
      " 3   LotArea        1168 non-null   int64  \n",
      " 4   Street         1168 non-null   object \n",
      " 5   Alley          1168 non-null   object \n",
      " 6   LotShape       1168 non-null   object \n",
      " 7   LandContour    1168 non-null   object \n",
      " 8   Utilities      1168 non-null   object \n",
      " 9   LotConfig      1168 non-null   object \n",
      " 10  LandSlope      1168 non-null   object \n",
      " 11  Neighborhood   1168 non-null   object \n",
      " 12  Condition1     1168 non-null   object \n",
      " 13  Condition2     1168 non-null   object \n",
      " 14  BldgType       1168 non-null   object \n",
      " 15  HouseStyle     1168 non-null   object \n",
      " 16  OverallQual    1168 non-null   int64  \n",
      " 17  OverallCond    1168 non-null   int64  \n",
      " 18  YearBuilt      1168 non-null   int64  \n",
      " 19  YearRemodAdd   1168 non-null   int64  \n",
      " 20  RoofStyle      1168 non-null   object \n",
      " 21  RoofMatl       1168 non-null   object \n",
      " 22  Exterior1st    1168 non-null   object \n",
      " 23  Exterior2nd    1168 non-null   object \n",
      " 24  MasVnrType     1168 non-null   object \n",
      " 25  MasVnrArea     1168 non-null   float64\n",
      " 26  ExterQual      1168 non-null   object \n",
      " 27  ExterCond      1168 non-null   object \n",
      " 28  Foundation     1168 non-null   object \n",
      " 29  BsmtQual       1168 non-null   object \n",
      " 30  BsmtCond       1168 non-null   object \n",
      " 31  BsmtExposure   1168 non-null   object \n",
      " 32  BsmtFinType1   1168 non-null   object \n",
      " 33  BsmtFinSF1     1168 non-null   float64\n",
      " 34  BsmtFinType2   1168 non-null   object \n",
      " 35  BsmtFinSF2     1168 non-null   float64\n",
      " 36  BsmtUnfSF      1168 non-null   float64\n",
      " 37  TotalBsmtSF    1168 non-null   float64\n",
      " 38  Heating        1168 non-null   object \n",
      " 39  HeatingQC      1168 non-null   object \n",
      " 40  CentralAir     1168 non-null   object \n",
      " 41  Electrical     1168 non-null   object \n",
      " 42  1stFlrSF       1168 non-null   int64  \n",
      " 43  2ndFlrSF       1168 non-null   int64  \n",
      " 44  LowQualFinSF   1168 non-null   int64  \n",
      " 45  GrLivArea      1168 non-null   int64  \n",
      " 46  BsmtFullBath   1168 non-null   float64\n",
      " 47  BsmtHalfBath   1167 non-null   float64\n",
      " 48  FullBath       1168 non-null   int64  \n",
      " 49  HalfBath       1168 non-null   int64  \n",
      " 50  BedroomAbvGr   1168 non-null   int64  \n",
      " 51  KitchenAbvGr   1168 non-null   int64  \n",
      " 52  KitchenQual    1168 non-null   object \n",
      " 53  TotRmsAbvGrd   1168 non-null   int64  \n",
      " 54  Functional     1168 non-null   object \n",
      " 55  Fireplaces     1168 non-null   int64  \n",
      " 56  FireplaceQu    1168 non-null   object \n",
      " 57  GarageType     1168 non-null   object \n",
      " 58  GarageYrBlt    1168 non-null   float64\n",
      " 59  GarageFinish   1168 non-null   object \n",
      " 60  GarageCars     1168 non-null   float64\n",
      " 61  GarageArea     1168 non-null   float64\n",
      " 62  GarageQual     1168 non-null   object \n",
      " 63  GarageCond     1168 non-null   object \n",
      " 64  PavedDrive     1168 non-null   object \n",
      " 65  WoodDeckSF     1168 non-null   int64  \n",
      " 66  OpenPorchSF    1168 non-null   int64  \n",
      " 67  EnclosedPorch  1168 non-null   int64  \n",
      " 68  3SsnPorch      1168 non-null   int64  \n",
      " 69  ScreenPorch    1168 non-null   int64  \n",
      " 70  PoolArea       1168 non-null   int64  \n",
      " 71  PoolQC         1168 non-null   object \n",
      " 72  Fence          1168 non-null   object \n",
      " 73  MiscFeature    1168 non-null   object \n",
      " 74  MiscVal        1168 non-null   int64  \n",
      " 75  MoSold         1168 non-null   int64  \n",
      " 76  YrSold         1168 non-null   int64  \n",
      " 77  SaleType       1168 non-null   object \n",
      " 78  SaleCondition  1168 non-null   object \n",
      "dtypes: float64(11), int64(25), object(43)\n",
      "memory usage: 721.0+ KB\n"
     ]
    }
   ],
   "source": [
    "test.info()"
   ]
  },
  {
   "cell_type": "code",
   "execution_count": 1060,
   "id": "0b7c8620",
   "metadata": {},
   "outputs": [],
   "source": [
    "train_one=pd.get_dummies(train)"
   ]
  },
  {
   "cell_type": "code",
   "execution_count": 1061,
   "id": "f0f89546",
   "metadata": {},
   "outputs": [],
   "source": [
    "test_one=pd.get_dummies(test)"
   ]
  },
  {
   "cell_type": "code",
   "execution_count": 1062,
   "id": "38b2bf27",
   "metadata": {},
   "outputs": [
    {
     "name": "stdout",
     "output_type": "stream",
     "text": [
      "(1751, 80)\n",
      "(1168, 79)\n"
     ]
    }
   ],
   "source": [
    "print(train.shape)\n",
    "print(test.shape)"
   ]
  },
  {
   "cell_type": "code",
   "execution_count": 1063,
   "id": "59f8e97c",
   "metadata": {},
   "outputs": [
    {
     "name": "stdout",
     "output_type": "stream",
     "text": [
      "(1751, 288)\n",
      "(1168, 276)\n"
     ]
    }
   ],
   "source": [
    "print(train_one.shape)\n",
    "print(test_one.shape)"
   ]
  },
  {
   "cell_type": "code",
   "execution_count": 1064,
   "id": "4200a53d",
   "metadata": {},
   "outputs": [
    {
     "data": {
      "text/plain": [
       "{'SalePrice'}"
      ]
     },
     "execution_count": 1064,
     "metadata": {},
     "output_type": "execute_result"
    }
   ],
   "source": [
    "set(train.columns) - set(test.columns)"
   ]
  },
  {
   "cell_type": "code",
   "execution_count": 1065,
   "id": "6bbb0261",
   "metadata": {},
   "outputs": [
    {
     "data": {
      "text/html": [
       "<div>\n",
       "<style scoped>\n",
       "    .dataframe tbody tr th:only-of-type {\n",
       "        vertical-align: middle;\n",
       "    }\n",
       "\n",
       "    .dataframe tbody tr th {\n",
       "        vertical-align: top;\n",
       "    }\n",
       "\n",
       "    .dataframe thead th {\n",
       "        text-align: right;\n",
       "    }\n",
       "</style>\n",
       "<table border=\"1\" class=\"dataframe\">\n",
       "  <thead>\n",
       "    <tr style=\"text-align: right;\">\n",
       "      <th></th>\n",
       "      <th>MSSubClass</th>\n",
       "      <th>LotFrontage</th>\n",
       "      <th>LotArea</th>\n",
       "      <th>OverallQual</th>\n",
       "      <th>OverallCond</th>\n",
       "      <th>YearBuilt</th>\n",
       "      <th>YearRemodAdd</th>\n",
       "      <th>MasVnrArea</th>\n",
       "      <th>BsmtFinSF1</th>\n",
       "      <th>BsmtFinSF2</th>\n",
       "      <th>...</th>\n",
       "      <th>SaleType_ConLw</th>\n",
       "      <th>SaleType_New</th>\n",
       "      <th>SaleType_Oth</th>\n",
       "      <th>SaleType_WD</th>\n",
       "      <th>SaleCondition_Abnorml</th>\n",
       "      <th>SaleCondition_AdjLand</th>\n",
       "      <th>SaleCondition_Alloca</th>\n",
       "      <th>SaleCondition_Family</th>\n",
       "      <th>SaleCondition_Normal</th>\n",
       "      <th>SaleCondition_Partial</th>\n",
       "    </tr>\n",
       "  </thead>\n",
       "  <tbody>\n",
       "    <tr>\n",
       "      <th>0</th>\n",
       "      <td>20</td>\n",
       "      <td>60.0</td>\n",
       "      <td>21695</td>\n",
       "      <td>6</td>\n",
       "      <td>9</td>\n",
       "      <td>1988</td>\n",
       "      <td>2007</td>\n",
       "      <td>260.0</td>\n",
       "      <td>808.0</td>\n",
       "      <td>0.0</td>\n",
       "      <td>...</td>\n",
       "      <td>0</td>\n",
       "      <td>0</td>\n",
       "      <td>0</td>\n",
       "      <td>1</td>\n",
       "      <td>0</td>\n",
       "      <td>0</td>\n",
       "      <td>0</td>\n",
       "      <td>0</td>\n",
       "      <td>1</td>\n",
       "      <td>0</td>\n",
       "    </tr>\n",
       "    <tr>\n",
       "      <th>1</th>\n",
       "      <td>20</td>\n",
       "      <td>60.0</td>\n",
       "      <td>10530</td>\n",
       "      <td>6</td>\n",
       "      <td>5</td>\n",
       "      <td>1971</td>\n",
       "      <td>1971</td>\n",
       "      <td>0.0</td>\n",
       "      <td>282.0</td>\n",
       "      <td>35.0</td>\n",
       "      <td>...</td>\n",
       "      <td>0</td>\n",
       "      <td>0</td>\n",
       "      <td>0</td>\n",
       "      <td>1</td>\n",
       "      <td>0</td>\n",
       "      <td>0</td>\n",
       "      <td>0</td>\n",
       "      <td>0</td>\n",
       "      <td>1</td>\n",
       "      <td>0</td>\n",
       "    </tr>\n",
       "    <tr>\n",
       "      <th>2</th>\n",
       "      <td>20</td>\n",
       "      <td>88.0</td>\n",
       "      <td>12803</td>\n",
       "      <td>7</td>\n",
       "      <td>5</td>\n",
       "      <td>2002</td>\n",
       "      <td>2002</td>\n",
       "      <td>99.0</td>\n",
       "      <td>922.0</td>\n",
       "      <td>0.0</td>\n",
       "      <td>...</td>\n",
       "      <td>0</td>\n",
       "      <td>0</td>\n",
       "      <td>0</td>\n",
       "      <td>1</td>\n",
       "      <td>0</td>\n",
       "      <td>0</td>\n",
       "      <td>0</td>\n",
       "      <td>0</td>\n",
       "      <td>1</td>\n",
       "      <td>0</td>\n",
       "    </tr>\n",
       "    <tr>\n",
       "      <th>3</th>\n",
       "      <td>60</td>\n",
       "      <td>114.0</td>\n",
       "      <td>8314</td>\n",
       "      <td>7</td>\n",
       "      <td>5</td>\n",
       "      <td>1997</td>\n",
       "      <td>1998</td>\n",
       "      <td>0.0</td>\n",
       "      <td>0.0</td>\n",
       "      <td>0.0</td>\n",
       "      <td>...</td>\n",
       "      <td>0</td>\n",
       "      <td>0</td>\n",
       "      <td>0</td>\n",
       "      <td>1</td>\n",
       "      <td>0</td>\n",
       "      <td>0</td>\n",
       "      <td>0</td>\n",
       "      <td>0</td>\n",
       "      <td>1</td>\n",
       "      <td>0</td>\n",
       "    </tr>\n",
       "    <tr>\n",
       "      <th>4</th>\n",
       "      <td>20</td>\n",
       "      <td>78.0</td>\n",
       "      <td>10335</td>\n",
       "      <td>5</td>\n",
       "      <td>6</td>\n",
       "      <td>1968</td>\n",
       "      <td>1993</td>\n",
       "      <td>0.0</td>\n",
       "      <td>570.0</td>\n",
       "      <td>0.0</td>\n",
       "      <td>...</td>\n",
       "      <td>0</td>\n",
       "      <td>0</td>\n",
       "      <td>0</td>\n",
       "      <td>1</td>\n",
       "      <td>0</td>\n",
       "      <td>0</td>\n",
       "      <td>0</td>\n",
       "      <td>0</td>\n",
       "      <td>1</td>\n",
       "      <td>0</td>\n",
       "    </tr>\n",
       "    <tr>\n",
       "      <th>...</th>\n",
       "      <td>...</td>\n",
       "      <td>...</td>\n",
       "      <td>...</td>\n",
       "      <td>...</td>\n",
       "      <td>...</td>\n",
       "      <td>...</td>\n",
       "      <td>...</td>\n",
       "      <td>...</td>\n",
       "      <td>...</td>\n",
       "      <td>...</td>\n",
       "      <td>...</td>\n",
       "      <td>...</td>\n",
       "      <td>...</td>\n",
       "      <td>...</td>\n",
       "      <td>...</td>\n",
       "      <td>...</td>\n",
       "      <td>...</td>\n",
       "      <td>...</td>\n",
       "      <td>...</td>\n",
       "      <td>...</td>\n",
       "      <td>...</td>\n",
       "    </tr>\n",
       "    <tr>\n",
       "      <th>1746</th>\n",
       "      <td>60</td>\n",
       "      <td>65.0</td>\n",
       "      <td>15426</td>\n",
       "      <td>6</td>\n",
       "      <td>5</td>\n",
       "      <td>1997</td>\n",
       "      <td>1997</td>\n",
       "      <td>0.0</td>\n",
       "      <td>821.0</td>\n",
       "      <td>0.0</td>\n",
       "      <td>...</td>\n",
       "      <td>0</td>\n",
       "      <td>0</td>\n",
       "      <td>0</td>\n",
       "      <td>1</td>\n",
       "      <td>0</td>\n",
       "      <td>0</td>\n",
       "      <td>0</td>\n",
       "      <td>0</td>\n",
       "      <td>1</td>\n",
       "      <td>0</td>\n",
       "    </tr>\n",
       "    <tr>\n",
       "      <th>1747</th>\n",
       "      <td>60</td>\n",
       "      <td>65.0</td>\n",
       "      <td>11616</td>\n",
       "      <td>6</td>\n",
       "      <td>5</td>\n",
       "      <td>1978</td>\n",
       "      <td>1978</td>\n",
       "      <td>328.0</td>\n",
       "      <td>438.0</td>\n",
       "      <td>0.0</td>\n",
       "      <td>...</td>\n",
       "      <td>0</td>\n",
       "      <td>0</td>\n",
       "      <td>0</td>\n",
       "      <td>1</td>\n",
       "      <td>1</td>\n",
       "      <td>0</td>\n",
       "      <td>0</td>\n",
       "      <td>0</td>\n",
       "      <td>0</td>\n",
       "      <td>0</td>\n",
       "    </tr>\n",
       "    <tr>\n",
       "      <th>1748</th>\n",
       "      <td>20</td>\n",
       "      <td>62.0</td>\n",
       "      <td>70761</td>\n",
       "      <td>7</td>\n",
       "      <td>5</td>\n",
       "      <td>1975</td>\n",
       "      <td>1975</td>\n",
       "      <td>0.0</td>\n",
       "      <td>655.0</td>\n",
       "      <td>0.0</td>\n",
       "      <td>...</td>\n",
       "      <td>0</td>\n",
       "      <td>0</td>\n",
       "      <td>0</td>\n",
       "      <td>1</td>\n",
       "      <td>0</td>\n",
       "      <td>0</td>\n",
       "      <td>0</td>\n",
       "      <td>0</td>\n",
       "      <td>1</td>\n",
       "      <td>0</td>\n",
       "    </tr>\n",
       "    <tr>\n",
       "      <th>1749</th>\n",
       "      <td>20</td>\n",
       "      <td>62.0</td>\n",
       "      <td>17597</td>\n",
       "      <td>7</td>\n",
       "      <td>9</td>\n",
       "      <td>1971</td>\n",
       "      <td>2009</td>\n",
       "      <td>0.0</td>\n",
       "      <td>803.0</td>\n",
       "      <td>419.0</td>\n",
       "      <td>...</td>\n",
       "      <td>0</td>\n",
       "      <td>0</td>\n",
       "      <td>0</td>\n",
       "      <td>1</td>\n",
       "      <td>0</td>\n",
       "      <td>0</td>\n",
       "      <td>0</td>\n",
       "      <td>0</td>\n",
       "      <td>1</td>\n",
       "      <td>0</td>\n",
       "    </tr>\n",
       "    <tr>\n",
       "      <th>1750</th>\n",
       "      <td>80</td>\n",
       "      <td>74.0</td>\n",
       "      <td>9620</td>\n",
       "      <td>6</td>\n",
       "      <td>7</td>\n",
       "      <td>1977</td>\n",
       "      <td>1977</td>\n",
       "      <td>0.0</td>\n",
       "      <td>679.0</td>\n",
       "      <td>0.0</td>\n",
       "      <td>...</td>\n",
       "      <td>0</td>\n",
       "      <td>0</td>\n",
       "      <td>0</td>\n",
       "      <td>1</td>\n",
       "      <td>0</td>\n",
       "      <td>0</td>\n",
       "      <td>0</td>\n",
       "      <td>0</td>\n",
       "      <td>1</td>\n",
       "      <td>0</td>\n",
       "    </tr>\n",
       "  </tbody>\n",
       "</table>\n",
       "<p>1751 rows × 288 columns</p>\n",
       "</div>"
      ],
      "text/plain": [
       "      MSSubClass  LotFrontage  LotArea  OverallQual  OverallCond  YearBuilt  \\\n",
       "0             20         60.0    21695            6            9       1988   \n",
       "1             20         60.0    10530            6            5       1971   \n",
       "2             20         88.0    12803            7            5       2002   \n",
       "3             60        114.0     8314            7            5       1997   \n",
       "4             20         78.0    10335            5            6       1968   \n",
       "...          ...          ...      ...          ...          ...        ...   \n",
       "1746          60         65.0    15426            6            5       1997   \n",
       "1747          60         65.0    11616            6            5       1978   \n",
       "1748          20         62.0    70761            7            5       1975   \n",
       "1749          20         62.0    17597            7            9       1971   \n",
       "1750          80         74.0     9620            6            7       1977   \n",
       "\n",
       "      YearRemodAdd  MasVnrArea  BsmtFinSF1  BsmtFinSF2  ...  SaleType_ConLw  \\\n",
       "0             2007       260.0       808.0         0.0  ...               0   \n",
       "1             1971         0.0       282.0        35.0  ...               0   \n",
       "2             2002        99.0       922.0         0.0  ...               0   \n",
       "3             1998         0.0         0.0         0.0  ...               0   \n",
       "4             1993         0.0       570.0         0.0  ...               0   \n",
       "...            ...         ...         ...         ...  ...             ...   \n",
       "1746          1997         0.0       821.0         0.0  ...               0   \n",
       "1747          1978       328.0       438.0         0.0  ...               0   \n",
       "1748          1975         0.0       655.0         0.0  ...               0   \n",
       "1749          2009         0.0       803.0       419.0  ...               0   \n",
       "1750          1977         0.0       679.0         0.0  ...               0   \n",
       "\n",
       "      SaleType_New  SaleType_Oth  SaleType_WD  SaleCondition_Abnorml  \\\n",
       "0                0             0            1                      0   \n",
       "1                0             0            1                      0   \n",
       "2                0             0            1                      0   \n",
       "3                0             0            1                      0   \n",
       "4                0             0            1                      0   \n",
       "...            ...           ...          ...                    ...   \n",
       "1746             0             0            1                      0   \n",
       "1747             0             0            1                      1   \n",
       "1748             0             0            1                      0   \n",
       "1749             0             0            1                      0   \n",
       "1750             0             0            1                      0   \n",
       "\n",
       "      SaleCondition_AdjLand  SaleCondition_Alloca  SaleCondition_Family  \\\n",
       "0                         0                     0                     0   \n",
       "1                         0                     0                     0   \n",
       "2                         0                     0                     0   \n",
       "3                         0                     0                     0   \n",
       "4                         0                     0                     0   \n",
       "...                     ...                   ...                   ...   \n",
       "1746                      0                     0                     0   \n",
       "1747                      0                     0                     0   \n",
       "1748                      0                     0                     0   \n",
       "1749                      0                     0                     0   \n",
       "1750                      0                     0                     0   \n",
       "\n",
       "      SaleCondition_Normal  SaleCondition_Partial  \n",
       "0                        1                      0  \n",
       "1                        1                      0  \n",
       "2                        1                      0  \n",
       "3                        1                      0  \n",
       "4                        1                      0  \n",
       "...                    ...                    ...  \n",
       "1746                     1                      0  \n",
       "1747                     0                      0  \n",
       "1748                     1                      0  \n",
       "1749                     1                      0  \n",
       "1750                     1                      0  \n",
       "\n",
       "[1751 rows x 288 columns]"
      ]
     },
     "execution_count": 1065,
     "metadata": {},
     "output_type": "execute_result"
    }
   ],
   "source": [
    "train_one"
   ]
  },
  {
   "cell_type": "code",
   "execution_count": 1066,
   "id": "a0030b50",
   "metadata": {},
   "outputs": [
    {
     "data": {
      "text/html": [
       "<div>\n",
       "<style scoped>\n",
       "    .dataframe tbody tr th:only-of-type {\n",
       "        vertical-align: middle;\n",
       "    }\n",
       "\n",
       "    .dataframe tbody tr th {\n",
       "        vertical-align: top;\n",
       "    }\n",
       "\n",
       "    .dataframe thead th {\n",
       "        text-align: right;\n",
       "    }\n",
       "</style>\n",
       "<table border=\"1\" class=\"dataframe\">\n",
       "  <thead>\n",
       "    <tr style=\"text-align: right;\">\n",
       "      <th></th>\n",
       "      <th>MSSubClass</th>\n",
       "      <th>LotFrontage</th>\n",
       "      <th>LotArea</th>\n",
       "      <th>OverallQual</th>\n",
       "      <th>OverallCond</th>\n",
       "      <th>YearBuilt</th>\n",
       "      <th>YearRemodAdd</th>\n",
       "      <th>MasVnrArea</th>\n",
       "      <th>BsmtFinSF1</th>\n",
       "      <th>BsmtFinSF2</th>\n",
       "      <th>...</th>\n",
       "      <th>SaleType_ConLw</th>\n",
       "      <th>SaleType_New</th>\n",
       "      <th>SaleType_Oth</th>\n",
       "      <th>SaleType_WD</th>\n",
       "      <th>SaleCondition_Abnorml</th>\n",
       "      <th>SaleCondition_AdjLand</th>\n",
       "      <th>SaleCondition_Alloca</th>\n",
       "      <th>SaleCondition_Family</th>\n",
       "      <th>SaleCondition_Normal</th>\n",
       "      <th>SaleCondition_Partial</th>\n",
       "    </tr>\n",
       "  </thead>\n",
       "  <tbody>\n",
       "    <tr>\n",
       "      <th>0</th>\n",
       "      <td>20</td>\n",
       "      <td>78.0</td>\n",
       "      <td>10206</td>\n",
       "      <td>8</td>\n",
       "      <td>5</td>\n",
       "      <td>2008</td>\n",
       "      <td>2008</td>\n",
       "      <td>294.0</td>\n",
       "      <td>0.0</td>\n",
       "      <td>0.0</td>\n",
       "      <td>...</td>\n",
       "      <td>0</td>\n",
       "      <td>0</td>\n",
       "      <td>0</td>\n",
       "      <td>1</td>\n",
       "      <td>0</td>\n",
       "      <td>0</td>\n",
       "      <td>0</td>\n",
       "      <td>0</td>\n",
       "      <td>1</td>\n",
       "      <td>0</td>\n",
       "    </tr>\n",
       "    <tr>\n",
       "      <th>1</th>\n",
       "      <td>50</td>\n",
       "      <td>50.0</td>\n",
       "      <td>5000</td>\n",
       "      <td>5</td>\n",
       "      <td>6</td>\n",
       "      <td>1924</td>\n",
       "      <td>1950</td>\n",
       "      <td>0.0</td>\n",
       "      <td>218.0</td>\n",
       "      <td>0.0</td>\n",
       "      <td>...</td>\n",
       "      <td>0</td>\n",
       "      <td>0</td>\n",
       "      <td>0</td>\n",
       "      <td>1</td>\n",
       "      <td>0</td>\n",
       "      <td>0</td>\n",
       "      <td>0</td>\n",
       "      <td>0</td>\n",
       "      <td>1</td>\n",
       "      <td>0</td>\n",
       "    </tr>\n",
       "    <tr>\n",
       "      <th>2</th>\n",
       "      <td>60</td>\n",
       "      <td>50.0</td>\n",
       "      <td>9930</td>\n",
       "      <td>7</td>\n",
       "      <td>5</td>\n",
       "      <td>2002</td>\n",
       "      <td>2002</td>\n",
       "      <td>199.0</td>\n",
       "      <td>456.0</td>\n",
       "      <td>0.0</td>\n",
       "      <td>...</td>\n",
       "      <td>0</td>\n",
       "      <td>0</td>\n",
       "      <td>0</td>\n",
       "      <td>1</td>\n",
       "      <td>0</td>\n",
       "      <td>0</td>\n",
       "      <td>0</td>\n",
       "      <td>0</td>\n",
       "      <td>1</td>\n",
       "      <td>0</td>\n",
       "    </tr>\n",
       "    <tr>\n",
       "      <th>3</th>\n",
       "      <td>60</td>\n",
       "      <td>92.0</td>\n",
       "      <td>9920</td>\n",
       "      <td>7</td>\n",
       "      <td>5</td>\n",
       "      <td>1996</td>\n",
       "      <td>1997</td>\n",
       "      <td>0.0</td>\n",
       "      <td>862.0</td>\n",
       "      <td>0.0</td>\n",
       "      <td>...</td>\n",
       "      <td>0</td>\n",
       "      <td>0</td>\n",
       "      <td>0</td>\n",
       "      <td>1</td>\n",
       "      <td>0</td>\n",
       "      <td>0</td>\n",
       "      <td>0</td>\n",
       "      <td>0</td>\n",
       "      <td>1</td>\n",
       "      <td>0</td>\n",
       "    </tr>\n",
       "    <tr>\n",
       "      <th>4</th>\n",
       "      <td>50</td>\n",
       "      <td>66.0</td>\n",
       "      <td>21780</td>\n",
       "      <td>6</td>\n",
       "      <td>7</td>\n",
       "      <td>1918</td>\n",
       "      <td>1950</td>\n",
       "      <td>0.0</td>\n",
       "      <td>0.0</td>\n",
       "      <td>0.0</td>\n",
       "      <td>...</td>\n",
       "      <td>0</td>\n",
       "      <td>0</td>\n",
       "      <td>0</td>\n",
       "      <td>1</td>\n",
       "      <td>0</td>\n",
       "      <td>0</td>\n",
       "      <td>0</td>\n",
       "      <td>0</td>\n",
       "      <td>1</td>\n",
       "      <td>0</td>\n",
       "    </tr>\n",
       "    <tr>\n",
       "      <th>...</th>\n",
       "      <td>...</td>\n",
       "      <td>...</td>\n",
       "      <td>...</td>\n",
       "      <td>...</td>\n",
       "      <td>...</td>\n",
       "      <td>...</td>\n",
       "      <td>...</td>\n",
       "      <td>...</td>\n",
       "      <td>...</td>\n",
       "      <td>...</td>\n",
       "      <td>...</td>\n",
       "      <td>...</td>\n",
       "      <td>...</td>\n",
       "      <td>...</td>\n",
       "      <td>...</td>\n",
       "      <td>...</td>\n",
       "      <td>...</td>\n",
       "      <td>...</td>\n",
       "      <td>...</td>\n",
       "      <td>...</td>\n",
       "      <td>...</td>\n",
       "    </tr>\n",
       "    <tr>\n",
       "      <th>1163</th>\n",
       "      <td>20</td>\n",
       "      <td>70.0</td>\n",
       "      <td>8402</td>\n",
       "      <td>5</td>\n",
       "      <td>5</td>\n",
       "      <td>2007</td>\n",
       "      <td>2007</td>\n",
       "      <td>0.0</td>\n",
       "      <td>206.0</td>\n",
       "      <td>0.0</td>\n",
       "      <td>...</td>\n",
       "      <td>0</td>\n",
       "      <td>1</td>\n",
       "      <td>0</td>\n",
       "      <td>0</td>\n",
       "      <td>0</td>\n",
       "      <td>0</td>\n",
       "      <td>0</td>\n",
       "      <td>0</td>\n",
       "      <td>0</td>\n",
       "      <td>1</td>\n",
       "    </tr>\n",
       "    <tr>\n",
       "      <th>1164</th>\n",
       "      <td>50</td>\n",
       "      <td>50.0</td>\n",
       "      <td>9140</td>\n",
       "      <td>6</td>\n",
       "      <td>5</td>\n",
       "      <td>1921</td>\n",
       "      <td>1975</td>\n",
       "      <td>0.0</td>\n",
       "      <td>308.0</td>\n",
       "      <td>0.0</td>\n",
       "      <td>...</td>\n",
       "      <td>0</td>\n",
       "      <td>0</td>\n",
       "      <td>0</td>\n",
       "      <td>0</td>\n",
       "      <td>0</td>\n",
       "      <td>0</td>\n",
       "      <td>0</td>\n",
       "      <td>0</td>\n",
       "      <td>1</td>\n",
       "      <td>0</td>\n",
       "    </tr>\n",
       "    <tr>\n",
       "      <th>1165</th>\n",
       "      <td>20</td>\n",
       "      <td>50.0</td>\n",
       "      <td>8050</td>\n",
       "      <td>5</td>\n",
       "      <td>5</td>\n",
       "      <td>1959</td>\n",
       "      <td>1959</td>\n",
       "      <td>150.0</td>\n",
       "      <td>856.0</td>\n",
       "      <td>162.0</td>\n",
       "      <td>...</td>\n",
       "      <td>0</td>\n",
       "      <td>0</td>\n",
       "      <td>0</td>\n",
       "      <td>1</td>\n",
       "      <td>0</td>\n",
       "      <td>0</td>\n",
       "      <td>0</td>\n",
       "      <td>0</td>\n",
       "      <td>1</td>\n",
       "      <td>0</td>\n",
       "    </tr>\n",
       "    <tr>\n",
       "      <th>1166</th>\n",
       "      <td>60</td>\n",
       "      <td>50.0</td>\n",
       "      <td>8637</td>\n",
       "      <td>6</td>\n",
       "      <td>5</td>\n",
       "      <td>1999</td>\n",
       "      <td>2000</td>\n",
       "      <td>0.0</td>\n",
       "      <td>871.0</td>\n",
       "      <td>0.0</td>\n",
       "      <td>...</td>\n",
       "      <td>0</td>\n",
       "      <td>0</td>\n",
       "      <td>0</td>\n",
       "      <td>1</td>\n",
       "      <td>1</td>\n",
       "      <td>0</td>\n",
       "      <td>0</td>\n",
       "      <td>0</td>\n",
       "      <td>0</td>\n",
       "      <td>0</td>\n",
       "    </tr>\n",
       "    <tr>\n",
       "      <th>1167</th>\n",
       "      <td>20</td>\n",
       "      <td>60.0</td>\n",
       "      <td>7200</td>\n",
       "      <td>5</td>\n",
       "      <td>7</td>\n",
       "      <td>1950</td>\n",
       "      <td>1950</td>\n",
       "      <td>0.0</td>\n",
       "      <td>534.0</td>\n",
       "      <td>96.0</td>\n",
       "      <td>...</td>\n",
       "      <td>0</td>\n",
       "      <td>0</td>\n",
       "      <td>0</td>\n",
       "      <td>1</td>\n",
       "      <td>0</td>\n",
       "      <td>0</td>\n",
       "      <td>0</td>\n",
       "      <td>0</td>\n",
       "      <td>1</td>\n",
       "      <td>0</td>\n",
       "    </tr>\n",
       "  </tbody>\n",
       "</table>\n",
       "<p>1168 rows × 276 columns</p>\n",
       "</div>"
      ],
      "text/plain": [
       "      MSSubClass  LotFrontage  LotArea  OverallQual  OverallCond  YearBuilt  \\\n",
       "0             20         78.0    10206            8            5       2008   \n",
       "1             50         50.0     5000            5            6       1924   \n",
       "2             60         50.0     9930            7            5       2002   \n",
       "3             60         92.0     9920            7            5       1996   \n",
       "4             50         66.0    21780            6            7       1918   \n",
       "...          ...          ...      ...          ...          ...        ...   \n",
       "1163          20         70.0     8402            5            5       2007   \n",
       "1164          50         50.0     9140            6            5       1921   \n",
       "1165          20         50.0     8050            5            5       1959   \n",
       "1166          60         50.0     8637            6            5       1999   \n",
       "1167          20         60.0     7200            5            7       1950   \n",
       "\n",
       "      YearRemodAdd  MasVnrArea  BsmtFinSF1  BsmtFinSF2  ...  SaleType_ConLw  \\\n",
       "0             2008       294.0         0.0         0.0  ...               0   \n",
       "1             1950         0.0       218.0         0.0  ...               0   \n",
       "2             2002       199.0       456.0         0.0  ...               0   \n",
       "3             1997         0.0       862.0         0.0  ...               0   \n",
       "4             1950         0.0         0.0         0.0  ...               0   \n",
       "...            ...         ...         ...         ...  ...             ...   \n",
       "1163          2007         0.0       206.0         0.0  ...               0   \n",
       "1164          1975         0.0       308.0         0.0  ...               0   \n",
       "1165          1959       150.0       856.0       162.0  ...               0   \n",
       "1166          2000         0.0       871.0         0.0  ...               0   \n",
       "1167          1950         0.0       534.0        96.0  ...               0   \n",
       "\n",
       "      SaleType_New  SaleType_Oth  SaleType_WD  SaleCondition_Abnorml  \\\n",
       "0                0             0            1                      0   \n",
       "1                0             0            1                      0   \n",
       "2                0             0            1                      0   \n",
       "3                0             0            1                      0   \n",
       "4                0             0            1                      0   \n",
       "...            ...           ...          ...                    ...   \n",
       "1163             1             0            0                      0   \n",
       "1164             0             0            0                      0   \n",
       "1165             0             0            1                      0   \n",
       "1166             0             0            1                      1   \n",
       "1167             0             0            1                      0   \n",
       "\n",
       "      SaleCondition_AdjLand  SaleCondition_Alloca  SaleCondition_Family  \\\n",
       "0                         0                     0                     0   \n",
       "1                         0                     0                     0   \n",
       "2                         0                     0                     0   \n",
       "3                         0                     0                     0   \n",
       "4                         0                     0                     0   \n",
       "...                     ...                   ...                   ...   \n",
       "1163                      0                     0                     0   \n",
       "1164                      0                     0                     0   \n",
       "1165                      0                     0                     0   \n",
       "1166                      0                     0                     0   \n",
       "1167                      0                     0                     0   \n",
       "\n",
       "      SaleCondition_Normal  SaleCondition_Partial  \n",
       "0                        1                      0  \n",
       "1                        1                      0  \n",
       "2                        1                      0  \n",
       "3                        1                      0  \n",
       "4                        1                      0  \n",
       "...                    ...                    ...  \n",
       "1163                     0                      1  \n",
       "1164                     1                      0  \n",
       "1165                     1                      0  \n",
       "1166                     0                      0  \n",
       "1167                     1                      0  \n",
       "\n",
       "[1168 rows x 276 columns]"
      ]
     },
     "execution_count": 1066,
     "metadata": {},
     "output_type": "execute_result"
    }
   ],
   "source": [
    "test_one"
   ]
  },
  {
   "cell_type": "code",
   "execution_count": 1067,
   "id": "c4767a79",
   "metadata": {
    "scrolled": false
   },
   "outputs": [
    {
     "data": {
      "text/plain": [
       "{'Condition2_PosA',\n",
       " 'Condition2_PosN',\n",
       " 'Condition2_RRNn',\n",
       " 'Electrical_Mix',\n",
       " 'ExterCond_Po',\n",
       " 'Exterior1st_CBlock',\n",
       " 'Exterior1st_Stone',\n",
       " 'Exterior2nd_CBlock',\n",
       " 'Exterior2nd_Other',\n",
       " 'Functional_Sev',\n",
       " 'GarageCond_Ex',\n",
       " 'GarageQual_Ex',\n",
       " 'Heating_Floor',\n",
       " 'Heating_OthW',\n",
       " 'MSZoning_N',\n",
       " 'RoofMatl_ClyTile',\n",
       " 'RoofMatl_Metal',\n",
       " 'RoofMatl_Roll',\n",
       " 'SalePrice'}"
      ]
     },
     "execution_count": 1067,
     "metadata": {},
     "output_type": "execute_result"
    }
   ],
   "source": [
    "set(train_one.columns) - set(test_one.columns)"
   ]
  },
  {
   "cell_type": "code",
   "execution_count": 1068,
   "id": "904be9f8",
   "metadata": {},
   "outputs": [],
   "source": [
    "bin = ['Condition2_PosA',\n",
    " 'Condition2_PosN',\n",
    " 'Condition2_RRNn',\n",
    " 'Electrical_Mix',\n",
    " 'ExterCond_Po',\n",
    " 'Exterior1st_CBlock',\n",
    " 'Exterior1st_Stone',\n",
    " 'Exterior2nd_CBlock',\n",
    " 'Exterior2nd_Other',\n",
    " 'Functional_Sev',\n",
    " 'GarageCond_Ex',\n",
    " 'GarageQual_Ex',\n",
    " 'Heating_Floor',\n",
    " 'Heating_OthW',\n",
    " 'MSZoning_N',\n",
    " 'RoofMatl_ClyTile',\n",
    " 'RoofMatl_Metal',\n",
    " 'RoofMatl_Roll']"
   ]
  },
  {
   "cell_type": "code",
   "execution_count": 1069,
   "id": "161b4200",
   "metadata": {},
   "outputs": [
    {
     "data": {
      "text/plain": [
       "18"
      ]
     },
     "execution_count": 1069,
     "metadata": {},
     "output_type": "execute_result"
    }
   ],
   "source": [
    "len(bin)"
   ]
  },
  {
   "cell_type": "code",
   "execution_count": 1070,
   "id": "89ee0a79",
   "metadata": {},
   "outputs": [
    {
     "data": {
      "text/plain": [
       "{'Condition2_RRAe',\n",
       " 'Condition2_RRAn',\n",
       " 'Exterior1st_ImStucc',\n",
       " 'MiscFeature_TenC',\n",
       " 'PoolQC_Fa',\n",
       " 'RoofMatl_Membran',\n",
       " 'Utilities_NoSeWa'}"
      ]
     },
     "execution_count": 1070,
     "metadata": {},
     "output_type": "execute_result"
    }
   ],
   "source": [
    " set(test_one.columns)- set(train_one.columns)"
   ]
  },
  {
   "cell_type": "code",
   "execution_count": 1071,
   "id": "77eaf8ce",
   "metadata": {},
   "outputs": [],
   "source": [
    "for i in range(len(bin)):\n",
    "    test_one['{}'.format(bin[i])]=0"
   ]
  },
  {
   "cell_type": "code",
   "execution_count": 1072,
   "id": "f1113eff",
   "metadata": {},
   "outputs": [
    {
     "name": "stdout",
     "output_type": "stream",
     "text": [
      "(1751, 288)\n",
      "(1168, 294)\n"
     ]
    }
   ],
   "source": [
    "print(train_one.shape)\n",
    "print(test_one.shape)"
   ]
  },
  {
   "cell_type": "code",
   "execution_count": 1073,
   "id": "07a92efd",
   "metadata": {},
   "outputs": [],
   "source": [
    "bin2=['Condition2_RRAe',\n",
    " 'Condition2_RRAn',\n",
    " 'Exterior1st_ImStucc',\n",
    " 'MiscFeature_TenC',\n",
    " 'PoolQC_Fa',\n",
    " 'RoofMatl_Membran',\n",
    " 'Utilities_NoSeWa']"
   ]
  },
  {
   "cell_type": "code",
   "execution_count": 1076,
   "id": "927f4524",
   "metadata": {},
   "outputs": [],
   "source": [
    "for i in range(len(bin2)):\n",
    "    train_one['{}'.format(bin2[i])]=0"
   ]
  },
  {
   "cell_type": "code",
   "execution_count": 1077,
   "id": "e754a869",
   "metadata": {},
   "outputs": [
    {
     "name": "stdout",
     "output_type": "stream",
     "text": [
      "(1751, 295)\n",
      "(1168, 294)\n"
     ]
    }
   ],
   "source": [
    "print(train_one.shape)\n",
    "print(test_one.shape)"
   ]
  },
  {
   "cell_type": "code",
   "execution_count": null,
   "id": "3f6fb724",
   "metadata": {},
   "outputs": [],
   "source": []
  },
  {
   "cell_type": "code",
   "execution_count": null,
   "id": "46186561",
   "metadata": {},
   "outputs": [],
   "source": []
  },
  {
   "cell_type": "code",
   "execution_count": null,
   "id": "2b28c3c3",
   "metadata": {},
   "outputs": [],
   "source": []
  },
  {
   "cell_type": "code",
   "execution_count": null,
   "id": "b53aa564",
   "metadata": {},
   "outputs": [],
   "source": []
  },
  {
   "cell_type": "code",
   "execution_count": null,
   "id": "786b5f35",
   "metadata": {},
   "outputs": [],
   "source": []
  },
  {
   "cell_type": "code",
   "execution_count": null,
   "id": "d96f0352",
   "metadata": {},
   "outputs": [],
   "source": []
  },
  {
   "cell_type": "code",
   "execution_count": null,
   "id": "695f22a8",
   "metadata": {},
   "outputs": [],
   "source": []
  },
  {
   "cell_type": "code",
   "execution_count": null,
   "id": "aa5a8d49",
   "metadata": {},
   "outputs": [],
   "source": []
  },
  {
   "cell_type": "code",
   "execution_count": null,
   "id": "0937a9e7",
   "metadata": {},
   "outputs": [],
   "source": []
  },
  {
   "cell_type": "code",
   "execution_count": null,
   "id": "f8f695ba",
   "metadata": {},
   "outputs": [],
   "source": []
  },
  {
   "cell_type": "code",
   "execution_count": null,
   "id": "69871bc9",
   "metadata": {},
   "outputs": [],
   "source": []
  },
  {
   "cell_type": "code",
   "execution_count": null,
   "id": "d9ba0cb8",
   "metadata": {},
   "outputs": [],
   "source": []
  },
  {
   "cell_type": "code",
   "execution_count": null,
   "id": "f7de0f98",
   "metadata": {},
   "outputs": [],
   "source": []
  },
  {
   "cell_type": "code",
   "execution_count": null,
   "id": "dbc249bc",
   "metadata": {},
   "outputs": [],
   "source": []
  },
  {
   "cell_type": "code",
   "execution_count": null,
   "id": "723b07ba",
   "metadata": {},
   "outputs": [],
   "source": []
  },
  {
   "cell_type": "code",
   "execution_count": null,
   "id": "20cfc37f",
   "metadata": {},
   "outputs": [],
   "source": []
  },
  {
   "cell_type": "code",
   "execution_count": null,
   "id": "4c75c22b",
   "metadata": {},
   "outputs": [],
   "source": []
  },
  {
   "cell_type": "code",
   "execution_count": null,
   "id": "e33a5886",
   "metadata": {},
   "outputs": [],
   "source": []
  },
  {
   "cell_type": "code",
   "execution_count": null,
   "id": "13f19bf3",
   "metadata": {},
   "outputs": [],
   "source": []
  },
  {
   "cell_type": "code",
   "execution_count": null,
   "id": "7f1c4e41",
   "metadata": {},
   "outputs": [],
   "source": []
  },
  {
   "cell_type": "code",
   "execution_count": null,
   "id": "a543effc",
   "metadata": {},
   "outputs": [],
   "source": []
  },
  {
   "cell_type": "code",
   "execution_count": null,
   "id": "371dbb00",
   "metadata": {},
   "outputs": [],
   "source": []
  },
  {
   "cell_type": "code",
   "execution_count": null,
   "id": "ae2bdec2",
   "metadata": {},
   "outputs": [],
   "source": []
  },
  {
   "cell_type": "code",
   "execution_count": null,
   "id": "dfb5a5a2",
   "metadata": {},
   "outputs": [],
   "source": []
  },
  {
   "cell_type": "code",
   "execution_count": null,
   "id": "5dd2b358",
   "metadata": {},
   "outputs": [],
   "source": []
  },
  {
   "cell_type": "code",
   "execution_count": null,
   "id": "2276537f",
   "metadata": {},
   "outputs": [],
   "source": []
  },
  {
   "cell_type": "code",
   "execution_count": null,
   "id": "82d250c6",
   "metadata": {},
   "outputs": [],
   "source": []
  },
  {
   "cell_type": "code",
   "execution_count": null,
   "id": "f44a21b2",
   "metadata": {},
   "outputs": [],
   "source": []
  },
  {
   "cell_type": "code",
   "execution_count": null,
   "id": "a35ad266",
   "metadata": {},
   "outputs": [],
   "source": []
  },
  {
   "cell_type": "code",
   "execution_count": null,
   "id": "43a51ffc",
   "metadata": {},
   "outputs": [],
   "source": []
  },
  {
   "cell_type": "code",
   "execution_count": null,
   "id": "41c3192d",
   "metadata": {},
   "outputs": [],
   "source": []
  },
  {
   "cell_type": "code",
   "execution_count": null,
   "id": "eb59d77b",
   "metadata": {},
   "outputs": [],
   "source": []
  },
  {
   "cell_type": "code",
   "execution_count": null,
   "id": "a19ce488",
   "metadata": {},
   "outputs": [],
   "source": []
  },
  {
   "cell_type": "code",
   "execution_count": null,
   "id": "e153def9",
   "metadata": {},
   "outputs": [],
   "source": []
  },
  {
   "cell_type": "code",
   "execution_count": null,
   "id": "563f181d",
   "metadata": {},
   "outputs": [],
   "source": []
  },
  {
   "cell_type": "code",
   "execution_count": null,
   "id": "ebdcd430",
   "metadata": {},
   "outputs": [],
   "source": []
  },
  {
   "cell_type": "code",
   "execution_count": null,
   "id": "3dce8454",
   "metadata": {},
   "outputs": [],
   "source": []
  },
  {
   "cell_type": "code",
   "execution_count": null,
   "id": "ab8f9c77",
   "metadata": {},
   "outputs": [],
   "source": []
  },
  {
   "cell_type": "code",
   "execution_count": null,
   "id": "486f3857",
   "metadata": {},
   "outputs": [],
   "source": []
  },
  {
   "cell_type": "code",
   "execution_count": null,
   "id": "2c6ae554",
   "metadata": {},
   "outputs": [],
   "source": []
  },
  {
   "cell_type": "code",
   "execution_count": null,
   "id": "728b7c30",
   "metadata": {},
   "outputs": [],
   "source": []
  },
  {
   "cell_type": "code",
   "execution_count": null,
   "id": "5adfbba2",
   "metadata": {},
   "outputs": [],
   "source": []
  },
  {
   "cell_type": "code",
   "execution_count": null,
   "id": "985877b4",
   "metadata": {},
   "outputs": [],
   "source": []
  },
  {
   "cell_type": "code",
   "execution_count": null,
   "id": "cd14dd92",
   "metadata": {},
   "outputs": [],
   "source": []
  },
  {
   "cell_type": "code",
   "execution_count": null,
   "id": "ed596396",
   "metadata": {},
   "outputs": [],
   "source": []
  },
  {
   "cell_type": "code",
   "execution_count": null,
   "id": "7d99c56f",
   "metadata": {},
   "outputs": [],
   "source": []
  },
  {
   "cell_type": "code",
   "execution_count": null,
   "id": "687ab56f",
   "metadata": {},
   "outputs": [],
   "source": []
  },
  {
   "cell_type": "code",
   "execution_count": null,
   "id": "b314dd95",
   "metadata": {},
   "outputs": [],
   "source": []
  }
 ],
 "metadata": {
  "kernelspec": {
   "display_name": "Python 3 (ipykernel)",
   "language": "python",
   "name": "python3"
  },
  "language_info": {
   "codemirror_mode": {
    "name": "ipython",
    "version": 3
   },
   "file_extension": ".py",
   "mimetype": "text/x-python",
   "name": "python",
   "nbconvert_exporter": "python",
   "pygments_lexer": "ipython3",
   "version": "3.9.7"
  }
 },
 "nbformat": 4,
 "nbformat_minor": 5
}
